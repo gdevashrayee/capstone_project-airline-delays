{
 "cells": [
  {
   "cell_type": "code",
   "execution_count": 27,
   "metadata": {},
   "outputs": [],
   "source": [
    "import warnings\n",
    "warnings.filterwarnings('ignore')"
   ]
  },
  {
   "cell_type": "code",
   "execution_count": 28,
   "metadata": {},
   "outputs": [],
   "source": [
    "import numpy as np\n",
    "import pandas as pd\n",
    "from pathlib import Path\n",
    "from collections import Counter"
   ]
  },
  {
   "cell_type": "code",
   "execution_count": 29,
   "metadata": {},
   "outputs": [],
   "source": [
    "from sklearn.metrics import balanced_accuracy_score\n",
    "from sklearn.metrics import confusion_matrix\n",
    "from imblearn.metrics import classification_report_imbalanced"
   ]
  },
  {
   "cell_type": "markdown",
   "metadata": {},
   "source": [
    "# Read the CSV and Perform Basic Data Cleaning"
   ]
  },
  {
   "cell_type": "code",
   "execution_count": 31,
   "metadata": {},
   "outputs": [
    {
     "data": {
      "text/html": [
       "<div>\n",
       "<style scoped>\n",
       "    .dataframe tbody tr th:only-of-type {\n",
       "        vertical-align: middle;\n",
       "    }\n",
       "\n",
       "    .dataframe tbody tr th {\n",
       "        vertical-align: top;\n",
       "    }\n",
       "\n",
       "    .dataframe thead th {\n",
       "        text-align: right;\n",
       "    }\n",
       "</style>\n",
       "<table border=\"1\" class=\"dataframe\">\n",
       "  <thead>\n",
       "    <tr style=\"text-align: right;\">\n",
       "      <th></th>\n",
       "      <th>DAY_OF_WEEK</th>\n",
       "      <th>ORIGIN_AIRPORT_ID</th>\n",
       "      <th>DEST_AIRPORT_ID</th>\n",
       "      <th>DEP_TIME</th>\n",
       "      <th>ARR_TIME</th>\n",
       "      <th>DEP_DEL15</th>\n",
       "      <th>DISTANCE</th>\n",
       "      <th>DISTANCE_GROUP</th>\n",
       "      <th>AWND</th>\n",
       "      <th>PRCP</th>\n",
       "      <th>TAVG</th>\n",
       "      <th>WDF2</th>\n",
       "      <th>WDF5</th>\n",
       "      <th>WSF2</th>\n",
       "      <th>WSF5</th>\n",
       "    </tr>\n",
       "  </thead>\n",
       "  <tbody>\n",
       "    <tr>\n",
       "      <th>0</th>\n",
       "      <td>7</td>\n",
       "      <td>10397</td>\n",
       "      <td>11150</td>\n",
       "      <td>1643</td>\n",
       "      <td>1720</td>\n",
       "      <td>0</td>\n",
       "      <td>83</td>\n",
       "      <td>1</td>\n",
       "      <td>6.49</td>\n",
       "      <td>0.0</td>\n",
       "      <td>53.0</td>\n",
       "      <td>320.0</td>\n",
       "      <td>320.0</td>\n",
       "      <td>13.0</td>\n",
       "      <td>15.0</td>\n",
       "    </tr>\n",
       "    <tr>\n",
       "      <th>1</th>\n",
       "      <td>7</td>\n",
       "      <td>10397</td>\n",
       "      <td>10980</td>\n",
       "      <td>1631</td>\n",
       "      <td>1719</td>\n",
       "      <td>0</td>\n",
       "      <td>106</td>\n",
       "      <td>1</td>\n",
       "      <td>6.49</td>\n",
       "      <td>0.0</td>\n",
       "      <td>53.0</td>\n",
       "      <td>320.0</td>\n",
       "      <td>320.0</td>\n",
       "      <td>13.0</td>\n",
       "      <td>15.0</td>\n",
       "    </tr>\n",
       "    <tr>\n",
       "      <th>2</th>\n",
       "      <td>7</td>\n",
       "      <td>10397</td>\n",
       "      <td>11150</td>\n",
       "      <td>1018</td>\n",
       "      <td>1105</td>\n",
       "      <td>0</td>\n",
       "      <td>83</td>\n",
       "      <td>1</td>\n",
       "      <td>6.49</td>\n",
       "      <td>0.0</td>\n",
       "      <td>53.0</td>\n",
       "      <td>320.0</td>\n",
       "      <td>320.0</td>\n",
       "      <td>13.0</td>\n",
       "      <td>15.0</td>\n",
       "    </tr>\n",
       "    <tr>\n",
       "      <th>3</th>\n",
       "      <td>7</td>\n",
       "      <td>10397</td>\n",
       "      <td>15249</td>\n",
       "      <td>1629</td>\n",
       "      <td>1725</td>\n",
       "      <td>0</td>\n",
       "      <td>223</td>\n",
       "      <td>1</td>\n",
       "      <td>6.49</td>\n",
       "      <td>0.0</td>\n",
       "      <td>53.0</td>\n",
       "      <td>320.0</td>\n",
       "      <td>320.0</td>\n",
       "      <td>13.0</td>\n",
       "      <td>15.0</td>\n",
       "    </tr>\n",
       "    <tr>\n",
       "      <th>4</th>\n",
       "      <td>7</td>\n",
       "      <td>10397</td>\n",
       "      <td>10990</td>\n",
       "      <td>2128</td>\n",
       "      <td>2300</td>\n",
       "      <td>0</td>\n",
       "      <td>457</td>\n",
       "      <td>2</td>\n",
       "      <td>6.49</td>\n",
       "      <td>0.0</td>\n",
       "      <td>53.0</td>\n",
       "      <td>320.0</td>\n",
       "      <td>320.0</td>\n",
       "      <td>13.0</td>\n",
       "      <td>15.0</td>\n",
       "    </tr>\n",
       "  </tbody>\n",
       "</table>\n",
       "</div>"
      ],
      "text/plain": [
       "   DAY_OF_WEEK  ORIGIN_AIRPORT_ID  DEST_AIRPORT_ID  DEP_TIME  ARR_TIME  \\\n",
       "0            7              10397            11150      1643      1720   \n",
       "1            7              10397            10980      1631      1719   \n",
       "2            7              10397            11150      1018      1105   \n",
       "3            7              10397            15249      1629      1725   \n",
       "4            7              10397            10990      2128      2300   \n",
       "\n",
       "   DEP_DEL15  DISTANCE  DISTANCE_GROUP  AWND  PRCP  TAVG   WDF2   WDF5  WSF2  \\\n",
       "0          0        83               1  6.49   0.0  53.0  320.0  320.0  13.0   \n",
       "1          0       106               1  6.49   0.0  53.0  320.0  320.0  13.0   \n",
       "2          0        83               1  6.49   0.0  53.0  320.0  320.0  13.0   \n",
       "3          0       223               1  6.49   0.0  53.0  320.0  320.0  13.0   \n",
       "4          0       457               2  6.49   0.0  53.0  320.0  320.0  13.0   \n",
       "\n",
       "   WSF5  \n",
       "0  15.0  \n",
       "1  15.0  \n",
       "2  15.0  \n",
       "3  15.0  \n",
       "4  15.0  "
      ]
     },
     "execution_count": 31,
     "metadata": {},
     "output_type": "execute_result"
    }
   ],
   "source": [
    "# Load the data\n",
    "file_path = Path('mlfinal_df.csv')\n",
    "df = pd.read_csv(file_path)\n",
    "\n",
    "\n",
    "df.head()"
   ]
  },
  {
   "cell_type": "markdown",
   "metadata": {},
   "source": [
    "# Split the Data into Training and Testing"
   ]
  },
  {
   "cell_type": "code",
   "execution_count": 33,
   "metadata": {},
   "outputs": [],
   "source": [
    "# Create our features\n",
    "X = pd.get_dummies(df.drop('DEP_DEL15', axis=1))\n",
    "\n",
    "# Create our target\n",
    "y = df[\"DEP_DEL15\"]"
   ]
  },
  {
   "cell_type": "code",
   "execution_count": 34,
   "metadata": {},
   "outputs": [
    {
     "data": {
      "text/html": [
       "<div>\n",
       "<style scoped>\n",
       "    .dataframe tbody tr th:only-of-type {\n",
       "        vertical-align: middle;\n",
       "    }\n",
       "\n",
       "    .dataframe tbody tr th {\n",
       "        vertical-align: top;\n",
       "    }\n",
       "\n",
       "    .dataframe thead th {\n",
       "        text-align: right;\n",
       "    }\n",
       "</style>\n",
       "<table border=\"1\" class=\"dataframe\">\n",
       "  <thead>\n",
       "    <tr style=\"text-align: right;\">\n",
       "      <th></th>\n",
       "      <th>DAY_OF_WEEK</th>\n",
       "      <th>ORIGIN_AIRPORT_ID</th>\n",
       "      <th>DEST_AIRPORT_ID</th>\n",
       "      <th>DEP_TIME</th>\n",
       "      <th>ARR_TIME</th>\n",
       "      <th>DISTANCE</th>\n",
       "      <th>DISTANCE_GROUP</th>\n",
       "      <th>AWND</th>\n",
       "      <th>PRCP</th>\n",
       "      <th>TAVG</th>\n",
       "      <th>WDF2</th>\n",
       "      <th>WDF5</th>\n",
       "      <th>WSF2</th>\n",
       "      <th>WSF5</th>\n",
       "    </tr>\n",
       "  </thead>\n",
       "  <tbody>\n",
       "    <tr>\n",
       "      <th>count</th>\n",
       "      <td>372868.000000</td>\n",
       "      <td>372868.000000</td>\n",
       "      <td>372868.000000</td>\n",
       "      <td>372868.000000</td>\n",
       "      <td>372868.000000</td>\n",
       "      <td>372868.000000</td>\n",
       "      <td>372868.000000</td>\n",
       "      <td>372868.000000</td>\n",
       "      <td>372868.000000</td>\n",
       "      <td>372868.000000</td>\n",
       "      <td>372868.000000</td>\n",
       "      <td>372868.000000</td>\n",
       "      <td>372868.000000</td>\n",
       "      <td>372868.000000</td>\n",
       "    </tr>\n",
       "    <tr>\n",
       "      <th>mean</th>\n",
       "      <td>3.838492</td>\n",
       "      <td>12608.079833</td>\n",
       "      <td>12732.823358</td>\n",
       "      <td>1366.458790</td>\n",
       "      <td>1511.935004</td>\n",
       "      <td>878.087382</td>\n",
       "      <td>3.978719</td>\n",
       "      <td>8.607354</td>\n",
       "      <td>0.097920</td>\n",
       "      <td>44.049133</td>\n",
       "      <td>211.519546</td>\n",
       "      <td>213.073206</td>\n",
       "      <td>18.727928</td>\n",
       "      <td>24.649397</td>\n",
       "    </tr>\n",
       "    <tr>\n",
       "      <th>std</th>\n",
       "      <td>1.920216</td>\n",
       "      <td>1458.701082</td>\n",
       "      <td>1524.685104</td>\n",
       "      <td>497.787017</td>\n",
       "      <td>533.379405</td>\n",
       "      <td>636.495386</td>\n",
       "      <td>2.501331</td>\n",
       "      <td>4.420188</td>\n",
       "      <td>0.276636</td>\n",
       "      <td>16.440001</td>\n",
       "      <td>101.940382</td>\n",
       "      <td>101.419552</td>\n",
       "      <td>7.230996</td>\n",
       "      <td>9.796632</td>\n",
       "    </tr>\n",
       "    <tr>\n",
       "      <th>min</th>\n",
       "      <td>1.000000</td>\n",
       "      <td>10397.000000</td>\n",
       "      <td>10135.000000</td>\n",
       "      <td>1.000000</td>\n",
       "      <td>1.000000</td>\n",
       "      <td>66.000000</td>\n",
       "      <td>1.000000</td>\n",
       "      <td>1.340000</td>\n",
       "      <td>0.000000</td>\n",
       "      <td>-22.000000</td>\n",
       "      <td>10.000000</td>\n",
       "      <td>10.000000</td>\n",
       "      <td>6.000000</td>\n",
       "      <td>6.900000</td>\n",
       "    </tr>\n",
       "    <tr>\n",
       "      <th>25%</th>\n",
       "      <td>2.000000</td>\n",
       "      <td>11278.000000</td>\n",
       "      <td>11292.000000</td>\n",
       "      <td>942.000000</td>\n",
       "      <td>1124.000000</td>\n",
       "      <td>404.000000</td>\n",
       "      <td>2.000000</td>\n",
       "      <td>4.920000</td>\n",
       "      <td>0.000000</td>\n",
       "      <td>33.000000</td>\n",
       "      <td>130.000000</td>\n",
       "      <td>130.000000</td>\n",
       "      <td>13.000000</td>\n",
       "      <td>17.000000</td>\n",
       "    </tr>\n",
       "    <tr>\n",
       "      <th>50%</th>\n",
       "      <td>4.000000</td>\n",
       "      <td>12889.000000</td>\n",
       "      <td>12892.000000</td>\n",
       "      <td>1351.000000</td>\n",
       "      <td>1537.000000</td>\n",
       "      <td>719.000000</td>\n",
       "      <td>3.000000</td>\n",
       "      <td>7.830000</td>\n",
       "      <td>0.000000</td>\n",
       "      <td>44.000000</td>\n",
       "      <td>220.000000</td>\n",
       "      <td>230.000000</td>\n",
       "      <td>17.000000</td>\n",
       "      <td>23.000000</td>\n",
       "    </tr>\n",
       "    <tr>\n",
       "      <th>75%</th>\n",
       "      <td>5.000000</td>\n",
       "      <td>13930.000000</td>\n",
       "      <td>14100.000000</td>\n",
       "      <td>1759.000000</td>\n",
       "      <td>1944.000000</td>\n",
       "      <td>1118.000000</td>\n",
       "      <td>5.000000</td>\n",
       "      <td>11.180000</td>\n",
       "      <td>0.030000</td>\n",
       "      <td>56.000000</td>\n",
       "      <td>300.000000</td>\n",
       "      <td>300.000000</td>\n",
       "      <td>23.000000</td>\n",
       "      <td>30.000000</td>\n",
       "    </tr>\n",
       "    <tr>\n",
       "      <th>max</th>\n",
       "      <td>7.000000</td>\n",
       "      <td>15376.000000</td>\n",
       "      <td>16218.000000</td>\n",
       "      <td>2400.000000</td>\n",
       "      <td>2400.000000</td>\n",
       "      <td>4983.000000</td>\n",
       "      <td>11.000000</td>\n",
       "      <td>26.620000</td>\n",
       "      <td>2.320000</td>\n",
       "      <td>79.000000</td>\n",
       "      <td>360.000000</td>\n",
       "      <td>360.000000</td>\n",
       "      <td>45.000000</td>\n",
       "      <td>63.100000</td>\n",
       "    </tr>\n",
       "  </tbody>\n",
       "</table>\n",
       "</div>"
      ],
      "text/plain": [
       "         DAY_OF_WEEK  ORIGIN_AIRPORT_ID  DEST_AIRPORT_ID       DEP_TIME  \\\n",
       "count  372868.000000      372868.000000    372868.000000  372868.000000   \n",
       "mean        3.838492       12608.079833     12732.823358    1366.458790   \n",
       "std         1.920216        1458.701082      1524.685104     497.787017   \n",
       "min         1.000000       10397.000000     10135.000000       1.000000   \n",
       "25%         2.000000       11278.000000     11292.000000     942.000000   \n",
       "50%         4.000000       12889.000000     12892.000000    1351.000000   \n",
       "75%         5.000000       13930.000000     14100.000000    1759.000000   \n",
       "max         7.000000       15376.000000     16218.000000    2400.000000   \n",
       "\n",
       "            ARR_TIME       DISTANCE  DISTANCE_GROUP           AWND  \\\n",
       "count  372868.000000  372868.000000   372868.000000  372868.000000   \n",
       "mean     1511.935004     878.087382        3.978719       8.607354   \n",
       "std       533.379405     636.495386        2.501331       4.420188   \n",
       "min         1.000000      66.000000        1.000000       1.340000   \n",
       "25%      1124.000000     404.000000        2.000000       4.920000   \n",
       "50%      1537.000000     719.000000        3.000000       7.830000   \n",
       "75%      1944.000000    1118.000000        5.000000      11.180000   \n",
       "max      2400.000000    4983.000000       11.000000      26.620000   \n",
       "\n",
       "                PRCP           TAVG           WDF2           WDF5  \\\n",
       "count  372868.000000  372868.000000  372868.000000  372868.000000   \n",
       "mean        0.097920      44.049133     211.519546     213.073206   \n",
       "std         0.276636      16.440001     101.940382     101.419552   \n",
       "min         0.000000     -22.000000      10.000000      10.000000   \n",
       "25%         0.000000      33.000000     130.000000     130.000000   \n",
       "50%         0.000000      44.000000     220.000000     230.000000   \n",
       "75%         0.030000      56.000000     300.000000     300.000000   \n",
       "max         2.320000      79.000000     360.000000     360.000000   \n",
       "\n",
       "                WSF2           WSF5  \n",
       "count  372868.000000  372868.000000  \n",
       "mean       18.727928      24.649397  \n",
       "std         7.230996       9.796632  \n",
       "min         6.000000       6.900000  \n",
       "25%        13.000000      17.000000  \n",
       "50%        17.000000      23.000000  \n",
       "75%        23.000000      30.000000  \n",
       "max        45.000000      63.100000  "
      ]
     },
     "execution_count": 34,
     "metadata": {},
     "output_type": "execute_result"
    }
   ],
   "source": [
    "X.describe()"
   ]
  },
  {
   "cell_type": "code",
   "execution_count": 35,
   "metadata": {},
   "outputs": [
    {
     "data": {
      "text/plain": [
       "0    306329\n",
       "1     66539\n",
       "Name: DEP_DEL15, dtype: int64"
      ]
     },
     "execution_count": 35,
     "metadata": {},
     "output_type": "execute_result"
    }
   ],
   "source": [
    "# Check the balance of our target values\n",
    "y.value_counts()"
   ]
  },
  {
   "cell_type": "code",
   "execution_count": 36,
   "metadata": {},
   "outputs": [
    {
     "data": {
      "text/plain": [
       "(279651, 14)"
      ]
     },
     "execution_count": 36,
     "metadata": {},
     "output_type": "execute_result"
    }
   ],
   "source": [
    "from sklearn.model_selection import train_test_split\n",
    "X_train, X_test, y_train, y_test = train_test_split(X, y, random_state=1, stratify=y)\n",
    "X_train.shape"
   ]
  },
  {
   "cell_type": "markdown",
   "metadata": {},
   "source": [
    "### Balanced Random Forest Classifier"
   ]
  },
  {
   "cell_type": "code",
   "execution_count": 37,
   "metadata": {},
   "outputs": [],
   "source": [
    "# Resample the training data with the BalancedRandomForestClassifier\n",
    "from imblearn.ensemble import BalancedRandomForestClassifier\n",
    "random_forest_classifer = BalancedRandomForestClassifier(n_estimators=100, random_state=1)\n",
    "random_forest_classifier= random_forest_classifer.fit(X_train, y_train)"
   ]
  },
  {
   "cell_type": "code",
   "execution_count": 38,
   "metadata": {},
   "outputs": [
    {
     "data": {
      "text/plain": [
       "0.7149983372131693"
      ]
     },
     "execution_count": 38,
     "metadata": {},
     "output_type": "execute_result"
    }
   ],
   "source": [
    "# Calculated the balanced accuracy score\n",
    "from sklearn.metrics import accuracy_score\n",
    "y_pred = random_forest_classifier.predict(X_test)\n",
    "accuracy_score(y_test, y_pred)"
   ]
  },
  {
   "cell_type": "code",
   "execution_count": 39,
   "metadata": {},
   "outputs": [
    {
     "data": {
      "text/plain": [
       "array([[55598, 20984],\n",
       "       [ 5583, 11052]], dtype=int64)"
      ]
     },
     "execution_count": 39,
     "metadata": {},
     "output_type": "execute_result"
    }
   ],
   "source": [
    "# Display the confusion matrix\n",
    "from sklearn.metrics import confusion_matrix\n",
    "confusion_matrix(y_test, y_pred)"
   ]
  },
  {
   "cell_type": "code",
   "execution_count": 40,
   "metadata": {},
   "outputs": [
    {
     "name": "stdout",
     "output_type": "stream",
     "text": [
      "                   pre       rec       spe        f1       geo       iba       sup\n",
      "\n",
      "          0       0.91      0.73      0.66      0.81      0.69      0.49     76582\n",
      "          1       0.34      0.66      0.73      0.45      0.69      0.48     16635\n",
      "\n",
      "avg / total       0.81      0.71      0.68      0.74      0.69      0.48     93217\n",
      "\n"
     ]
    }
   ],
   "source": [
    "# Print the imbalanced classification report\n",
    "from imblearn.metrics import classification_report_imbalanced\n",
    "print(classification_report_imbalanced(y_test, y_pred))"
   ]
  },
  {
   "cell_type": "code",
   "execution_count": 41,
   "metadata": {},
   "outputs": [
    {
     "data": {
      "text/plain": [
       "[(0.2064866167777747, 'DEP_TIME'),\n",
       " (0.18764576457929624, 'ARR_TIME'),\n",
       " (0.1214045756826761, 'DISTANCE'),\n",
       " (0.11554878094578111, 'DEST_AIRPORT_ID'),\n",
       " (0.05199626007964711, 'TAVG'),\n",
       " (0.04752276919585736, 'DISTANCE_GROUP'),\n",
       " (0.04329920134341289, 'AWND'),\n",
       " (0.04175211065670366, 'ORIGIN_AIRPORT_ID'),\n",
       " (0.03769932401049945, 'WSF5'),\n",
       " (0.0348039050557218, 'WDF5'),\n",
       " (0.033917038150990744, 'WDF2'),\n",
       " (0.030267261472523673, 'WSF2'),\n",
       " (0.024719976716958955, 'DAY_OF_WEEK'),\n",
       " (0.022936415332156335, 'PRCP')]"
      ]
     },
     "execution_count": 41,
     "metadata": {},
     "output_type": "execute_result"
    }
   ],
   "source": [
    "# List the features sorted in descending order by feature importance\n",
    "features = sorted(zip(random_forest_classifer.feature_importances_, X.columns), reverse=True)\n",
    "features"
   ]
  },
  {
   "cell_type": "markdown",
   "metadata": {},
   "source": [
    "### Easy Ensemble AdaBoost Classifier"
   ]
  },
  {
   "cell_type": "code",
   "execution_count": 42,
   "metadata": {},
   "outputs": [
    {
     "data": {
      "text/plain": [
       "EasyEnsembleClassifier(random_state=1)"
      ]
     },
     "execution_count": 42,
     "metadata": {},
     "output_type": "execute_result"
    }
   ],
   "source": [
    "# Train the EasyEnsembleClassifier\n",
    "from imblearn.ensemble import EasyEnsembleClassifier\n",
    "easy_ensemble_classifier = EasyEnsembleClassifier(random_state=1)\n",
    "easy_ensemble_classifier.fit(X_train, y_train)"
   ]
  },
  {
   "cell_type": "code",
   "execution_count": 43,
   "metadata": {},
   "outputs": [
    {
     "data": {
      "text/plain": [
       "0.648604868210734"
      ]
     },
     "execution_count": 43,
     "metadata": {},
     "output_type": "execute_result"
    }
   ],
   "source": [
    "# Calculated the balanced accuracy score\n",
    "y_pred = easy_ensemble_classifier.predict(X_test)\n",
    "accuracy_score(y_test, y_pred)"
   ]
  },
  {
   "cell_type": "code",
   "execution_count": 44,
   "metadata": {},
   "outputs": [
    {
     "data": {
      "text/plain": [
       "array([[49641, 26941],\n",
       "       [ 5815, 10820]], dtype=int64)"
      ]
     },
     "execution_count": 44,
     "metadata": {},
     "output_type": "execute_result"
    }
   ],
   "source": [
    "# Display the confusion matrix\n",
    "confusion_matrix(y_test, y_pred)"
   ]
  },
  {
   "cell_type": "code",
   "execution_count": 45,
   "metadata": {},
   "outputs": [
    {
     "name": "stdout",
     "output_type": "stream",
     "text": [
      "                   pre       rec       spe        f1       geo       iba       sup\n",
      "\n",
      "          0       0.90      0.65      0.65      0.75      0.65      0.42     76582\n",
      "          1       0.29      0.65      0.65      0.40      0.65      0.42     16635\n",
      "\n",
      "avg / total       0.79      0.65      0.65      0.69      0.65      0.42     93217\n",
      "\n"
     ]
    }
   ],
   "source": [
    "# Print the imbalanced classification report\n",
    "print(classification_report_imbalanced(y_test, y_pred))"
   ]
  }
 ],
 "metadata": {
  "kernelspec": {
   "display_name": "mlenv",
   "language": "python",
   "name": "mlenv"
  },
  "language_info": {
   "codemirror_mode": {
    "name": "ipython",
    "version": 3
   },
   "file_extension": ".py",
   "mimetype": "text/x-python",
   "name": "python",
   "nbconvert_exporter": "python",
   "pygments_lexer": "ipython3",
   "version": "3.8.13"
  }
 },
 "nbformat": 4,
 "nbformat_minor": 2
}
