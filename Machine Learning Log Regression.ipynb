{
 "cells": [
  {
   "cell_type": "markdown",
   "metadata": {},
   "source": [
    " # Predicting Airline Delays\n",
    " "
   ]
  },
  {
   "cell_type": "code",
   "execution_count": 3,
   "metadata": {},
   "outputs": [],
   "source": [
    "import numpy as np\n",
    "import pandas as pd\n",
    "from pathlib import Path\n",
    "from collections import Counter\n",
    "from sklearn.metrics import balanced_accuracy_score\n",
    "from sklearn.metrics import confusion_matrix\n",
    "from imblearn.metrics import classification_report_imbalanced"
   ]
  },
  {
   "cell_type": "code",
   "execution_count": 6,
   "metadata": {},
   "outputs": [
    {
     "data": {
      "text/html": [
       "<div>\n",
       "<style scoped>\n",
       "    .dataframe tbody tr th:only-of-type {\n",
       "        vertical-align: middle;\n",
       "    }\n",
       "\n",
       "    .dataframe tbody tr th {\n",
       "        vertical-align: top;\n",
       "    }\n",
       "\n",
       "    .dataframe thead th {\n",
       "        text-align: right;\n",
       "    }\n",
       "</style>\n",
       "<table border=\"1\" class=\"dataframe\">\n",
       "  <thead>\n",
       "    <tr style=\"text-align: right;\">\n",
       "      <th></th>\n",
       "      <th>MONTH</th>\n",
       "      <th>DAY_OF_MONTH</th>\n",
       "      <th>DATE</th>\n",
       "      <th>DAY_OF_WEEK</th>\n",
       "      <th>ORIGIN_AIRPORT_ID</th>\n",
       "      <th>DEST_AIRPORT_ID</th>\n",
       "      <th>DEST_CITY_NAME</th>\n",
       "      <th>DEP_TIME</th>\n",
       "      <th>DEP_DELAY_NEW</th>\n",
       "      <th>ARR_TIME</th>\n",
       "      <th>...</th>\n",
       "      <th>DISTANCE</th>\n",
       "      <th>DISTANCE_GROUP</th>\n",
       "      <th>NAME</th>\n",
       "      <th>AWND</th>\n",
       "      <th>PRCP</th>\n",
       "      <th>TAVG</th>\n",
       "      <th>WDF2</th>\n",
       "      <th>WDF5</th>\n",
       "      <th>WSF2</th>\n",
       "      <th>WSF5</th>\n",
       "    </tr>\n",
       "  </thead>\n",
       "  <tbody>\n",
       "    <tr>\n",
       "      <th>0</th>\n",
       "      <td>1</td>\n",
       "      <td>6</td>\n",
       "      <td>1/6/2019</td>\n",
       "      <td>7</td>\n",
       "      <td>10397</td>\n",
       "      <td>11150</td>\n",
       "      <td>Columbus, GA</td>\n",
       "      <td>1643</td>\n",
       "      <td>0</td>\n",
       "      <td>1720</td>\n",
       "      <td>...</td>\n",
       "      <td>83</td>\n",
       "      <td>1</td>\n",
       "      <td>ATLANTA HARTSFIELD JACKSON INTERNATIONAL AIRPO...</td>\n",
       "      <td>6.49</td>\n",
       "      <td>0.0</td>\n",
       "      <td>53.0</td>\n",
       "      <td>320.0</td>\n",
       "      <td>320.0</td>\n",
       "      <td>13.0</td>\n",
       "      <td>15.0</td>\n",
       "    </tr>\n",
       "    <tr>\n",
       "      <th>1</th>\n",
       "      <td>1</td>\n",
       "      <td>6</td>\n",
       "      <td>1/6/2019</td>\n",
       "      <td>7</td>\n",
       "      <td>10397</td>\n",
       "      <td>10980</td>\n",
       "      <td>Chattanooga, TN</td>\n",
       "      <td>1631</td>\n",
       "      <td>0</td>\n",
       "      <td>1719</td>\n",
       "      <td>...</td>\n",
       "      <td>106</td>\n",
       "      <td>1</td>\n",
       "      <td>ATLANTA HARTSFIELD JACKSON INTERNATIONAL AIRPO...</td>\n",
       "      <td>6.49</td>\n",
       "      <td>0.0</td>\n",
       "      <td>53.0</td>\n",
       "      <td>320.0</td>\n",
       "      <td>320.0</td>\n",
       "      <td>13.0</td>\n",
       "      <td>15.0</td>\n",
       "    </tr>\n",
       "    <tr>\n",
       "      <th>2</th>\n",
       "      <td>1</td>\n",
       "      <td>6</td>\n",
       "      <td>1/6/2019</td>\n",
       "      <td>7</td>\n",
       "      <td>10397</td>\n",
       "      <td>11150</td>\n",
       "      <td>Columbus, GA</td>\n",
       "      <td>1018</td>\n",
       "      <td>0</td>\n",
       "      <td>1105</td>\n",
       "      <td>...</td>\n",
       "      <td>83</td>\n",
       "      <td>1</td>\n",
       "      <td>ATLANTA HARTSFIELD JACKSON INTERNATIONAL AIRPO...</td>\n",
       "      <td>6.49</td>\n",
       "      <td>0.0</td>\n",
       "      <td>53.0</td>\n",
       "      <td>320.0</td>\n",
       "      <td>320.0</td>\n",
       "      <td>13.0</td>\n",
       "      <td>15.0</td>\n",
       "    </tr>\n",
       "    <tr>\n",
       "      <th>3</th>\n",
       "      <td>1</td>\n",
       "      <td>6</td>\n",
       "      <td>1/6/2019</td>\n",
       "      <td>7</td>\n",
       "      <td>10397</td>\n",
       "      <td>15249</td>\n",
       "      <td>Tallahassee, FL</td>\n",
       "      <td>1629</td>\n",
       "      <td>12</td>\n",
       "      <td>1725</td>\n",
       "      <td>...</td>\n",
       "      <td>223</td>\n",
       "      <td>1</td>\n",
       "      <td>ATLANTA HARTSFIELD JACKSON INTERNATIONAL AIRPO...</td>\n",
       "      <td>6.49</td>\n",
       "      <td>0.0</td>\n",
       "      <td>53.0</td>\n",
       "      <td>320.0</td>\n",
       "      <td>320.0</td>\n",
       "      <td>13.0</td>\n",
       "      <td>15.0</td>\n",
       "    </tr>\n",
       "    <tr>\n",
       "      <th>4</th>\n",
       "      <td>1</td>\n",
       "      <td>6</td>\n",
       "      <td>1/6/2019</td>\n",
       "      <td>7</td>\n",
       "      <td>10397</td>\n",
       "      <td>10990</td>\n",
       "      <td>Charlottesville, VA</td>\n",
       "      <td>2128</td>\n",
       "      <td>8</td>\n",
       "      <td>2300</td>\n",
       "      <td>...</td>\n",
       "      <td>457</td>\n",
       "      <td>2</td>\n",
       "      <td>ATLANTA HARTSFIELD JACKSON INTERNATIONAL AIRPO...</td>\n",
       "      <td>6.49</td>\n",
       "      <td>0.0</td>\n",
       "      <td>53.0</td>\n",
       "      <td>320.0</td>\n",
       "      <td>320.0</td>\n",
       "      <td>13.0</td>\n",
       "      <td>15.0</td>\n",
       "    </tr>\n",
       "  </tbody>\n",
       "</table>\n",
       "<p>5 rows × 23 columns</p>\n",
       "</div>"
      ],
      "text/plain": [
       "   MONTH  DAY_OF_MONTH      DATE  DAY_OF_WEEK  ORIGIN_AIRPORT_ID  \\\n",
       "0      1             6  1/6/2019            7              10397   \n",
       "1      1             6  1/6/2019            7              10397   \n",
       "2      1             6  1/6/2019            7              10397   \n",
       "3      1             6  1/6/2019            7              10397   \n",
       "4      1             6  1/6/2019            7              10397   \n",
       "\n",
       "   DEST_AIRPORT_ID       DEST_CITY_NAME  DEP_TIME  DEP_DELAY_NEW  ARR_TIME  \\\n",
       "0            11150         Columbus, GA      1643              0      1720   \n",
       "1            10980      Chattanooga, TN      1631              0      1719   \n",
       "2            11150         Columbus, GA      1018              0      1105   \n",
       "3            15249      Tallahassee, FL      1629             12      1725   \n",
       "4            10990  Charlottesville, VA      2128              8      2300   \n",
       "\n",
       "   ...  DISTANCE  DISTANCE_GROUP  \\\n",
       "0  ...        83               1   \n",
       "1  ...       106               1   \n",
       "2  ...        83               1   \n",
       "3  ...       223               1   \n",
       "4  ...       457               2   \n",
       "\n",
       "                                                NAME  AWND  PRCP  TAVG   WDF2  \\\n",
       "0  ATLANTA HARTSFIELD JACKSON INTERNATIONAL AIRPO...  6.49   0.0  53.0  320.0   \n",
       "1  ATLANTA HARTSFIELD JACKSON INTERNATIONAL AIRPO...  6.49   0.0  53.0  320.0   \n",
       "2  ATLANTA HARTSFIELD JACKSON INTERNATIONAL AIRPO...  6.49   0.0  53.0  320.0   \n",
       "3  ATLANTA HARTSFIELD JACKSON INTERNATIONAL AIRPO...  6.49   0.0  53.0  320.0   \n",
       "4  ATLANTA HARTSFIELD JACKSON INTERNATIONAL AIRPO...  6.49   0.0  53.0  320.0   \n",
       "\n",
       "    WDF5  WSF2  WSF5  \n",
       "0  320.0  13.0  15.0  \n",
       "1  320.0  13.0  15.0  \n",
       "2  320.0  13.0  15.0  \n",
       "3  320.0  13.0  15.0  \n",
       "4  320.0  13.0  15.0  \n",
       "\n",
       "[5 rows x 23 columns]"
      ]
     },
     "execution_count": 6,
     "metadata": {},
     "output_type": "execute_result"
    }
   ],
   "source": [
    "file_path = Path('final_df.csv')\n",
    "df = pd.read_csv(file_path, index_col=0)\n",
    "df.head()"
   ]
  },
  {
   "cell_type": "code",
   "execution_count": 35,
   "metadata": {},
   "outputs": [
    {
     "data": {
      "text/html": [
       "<div>\n",
       "<style scoped>\n",
       "    .dataframe tbody tr th:only-of-type {\n",
       "        vertical-align: middle;\n",
       "    }\n",
       "\n",
       "    .dataframe tbody tr th {\n",
       "        vertical-align: top;\n",
       "    }\n",
       "\n",
       "    .dataframe thead th {\n",
       "        text-align: right;\n",
       "    }\n",
       "</style>\n",
       "<table border=\"1\" class=\"dataframe\">\n",
       "  <thead>\n",
       "    <tr style=\"text-align: right;\">\n",
       "      <th></th>\n",
       "      <th>DAY_OF_WEEK</th>\n",
       "      <th>ORIGIN_AIRPORT_ID</th>\n",
       "      <th>DEST_AIRPORT_ID</th>\n",
       "      <th>DEP_TIME</th>\n",
       "      <th>ARR_TIME</th>\n",
       "      <th>DEP_DEL15</th>\n",
       "      <th>DISTANCE</th>\n",
       "      <th>DISTANCE_GROUP</th>\n",
       "      <th>AWND</th>\n",
       "      <th>PRCP</th>\n",
       "      <th>TAVG</th>\n",
       "      <th>WDF2</th>\n",
       "      <th>WDF5</th>\n",
       "      <th>WSF2</th>\n",
       "      <th>WSF5</th>\n",
       "    </tr>\n",
       "  </thead>\n",
       "  <tbody>\n",
       "    <tr>\n",
       "      <th>0</th>\n",
       "      <td>7</td>\n",
       "      <td>10397</td>\n",
       "      <td>11150</td>\n",
       "      <td>1643</td>\n",
       "      <td>1720</td>\n",
       "      <td>0</td>\n",
       "      <td>83</td>\n",
       "      <td>1</td>\n",
       "      <td>6.49</td>\n",
       "      <td>0.0</td>\n",
       "      <td>53.0</td>\n",
       "      <td>320.0</td>\n",
       "      <td>320.0</td>\n",
       "      <td>13.0</td>\n",
       "      <td>15.0</td>\n",
       "    </tr>\n",
       "    <tr>\n",
       "      <th>1</th>\n",
       "      <td>7</td>\n",
       "      <td>10397</td>\n",
       "      <td>10980</td>\n",
       "      <td>1631</td>\n",
       "      <td>1719</td>\n",
       "      <td>0</td>\n",
       "      <td>106</td>\n",
       "      <td>1</td>\n",
       "      <td>6.49</td>\n",
       "      <td>0.0</td>\n",
       "      <td>53.0</td>\n",
       "      <td>320.0</td>\n",
       "      <td>320.0</td>\n",
       "      <td>13.0</td>\n",
       "      <td>15.0</td>\n",
       "    </tr>\n",
       "    <tr>\n",
       "      <th>2</th>\n",
       "      <td>7</td>\n",
       "      <td>10397</td>\n",
       "      <td>11150</td>\n",
       "      <td>1018</td>\n",
       "      <td>1105</td>\n",
       "      <td>0</td>\n",
       "      <td>83</td>\n",
       "      <td>1</td>\n",
       "      <td>6.49</td>\n",
       "      <td>0.0</td>\n",
       "      <td>53.0</td>\n",
       "      <td>320.0</td>\n",
       "      <td>320.0</td>\n",
       "      <td>13.0</td>\n",
       "      <td>15.0</td>\n",
       "    </tr>\n",
       "    <tr>\n",
       "      <th>3</th>\n",
       "      <td>7</td>\n",
       "      <td>10397</td>\n",
       "      <td>15249</td>\n",
       "      <td>1629</td>\n",
       "      <td>1725</td>\n",
       "      <td>0</td>\n",
       "      <td>223</td>\n",
       "      <td>1</td>\n",
       "      <td>6.49</td>\n",
       "      <td>0.0</td>\n",
       "      <td>53.0</td>\n",
       "      <td>320.0</td>\n",
       "      <td>320.0</td>\n",
       "      <td>13.0</td>\n",
       "      <td>15.0</td>\n",
       "    </tr>\n",
       "    <tr>\n",
       "      <th>4</th>\n",
       "      <td>7</td>\n",
       "      <td>10397</td>\n",
       "      <td>10990</td>\n",
       "      <td>2128</td>\n",
       "      <td>2300</td>\n",
       "      <td>0</td>\n",
       "      <td>457</td>\n",
       "      <td>2</td>\n",
       "      <td>6.49</td>\n",
       "      <td>0.0</td>\n",
       "      <td>53.0</td>\n",
       "      <td>320.0</td>\n",
       "      <td>320.0</td>\n",
       "      <td>13.0</td>\n",
       "      <td>15.0</td>\n",
       "    </tr>\n",
       "  </tbody>\n",
       "</table>\n",
       "</div>"
      ],
      "text/plain": [
       "   DAY_OF_WEEK  ORIGIN_AIRPORT_ID  DEST_AIRPORT_ID  DEP_TIME  ARR_TIME  \\\n",
       "0            7              10397            11150      1643      1720   \n",
       "1            7              10397            10980      1631      1719   \n",
       "2            7              10397            11150      1018      1105   \n",
       "3            7              10397            15249      1629      1725   \n",
       "4            7              10397            10990      2128      2300   \n",
       "\n",
       "   DEP_DEL15  DISTANCE  DISTANCE_GROUP  AWND  PRCP  TAVG   WDF2   WDF5  WSF2  \\\n",
       "0          0        83               1  6.49   0.0  53.0  320.0  320.0  13.0   \n",
       "1          0       106               1  6.49   0.0  53.0  320.0  320.0  13.0   \n",
       "2          0        83               1  6.49   0.0  53.0  320.0  320.0  13.0   \n",
       "3          0       223               1  6.49   0.0  53.0  320.0  320.0  13.0   \n",
       "4          0       457               2  6.49   0.0  53.0  320.0  320.0  13.0   \n",
       "\n",
       "   WSF5  \n",
       "0  15.0  \n",
       "1  15.0  \n",
       "2  15.0  \n",
       "3  15.0  \n",
       "4  15.0  "
      ]
     },
     "execution_count": 35,
     "metadata": {},
     "output_type": "execute_result"
    }
   ],
   "source": [
    "columns = [\"DAY_OF_WEEK\", \"ORIGIN_AIRPORT_ID\", \"DEST_AIRPORT_ID\",\"DEP_TIME\", \"ARR_TIME\", \"DEP_DEL15\", \"DISTANCE\", \"DISTANCE_GROUP\", \"AWND\", \"PRCP\", \"TAVG\", \"WDF2\", \"WDF5\", \"WSF2\", \"WSF5\"]\n",
    "ml_df= df[columns]\n",
    "ml_df.head()"
   ]
  },
  {
   "cell_type": "code",
   "execution_count": 36,
   "metadata": {},
   "outputs": [],
   "source": [
    "#ml_df.to_csv('mlfinal_df.csv', index=False)"
   ]
  },
  {
   "cell_type": "markdown",
   "metadata": {},
   "source": [
    " ## Separate the Features (X) from the Target (y)"
   ]
  },
  {
   "cell_type": "code",
   "execution_count": 37,
   "metadata": {},
   "outputs": [],
   "source": [
    "# Create our features\n",
    "X = pd.get_dummies(ml_df.drop(\"DEP_DEL15\", axis=1))\n",
    "\n",
    "# Create our target\n",
    "y = ml_df[\"DEP_DEL15\"]\n"
   ]
  },
  {
   "cell_type": "code",
   "execution_count": 38,
   "metadata": {},
   "outputs": [],
   "source": [
    "#Scale the data\n",
    "from sklearn.preprocessing import StandardScaler\n",
    "data_scaler = StandardScaler()\n",
    "flight_data_scaled = data_scaler.fit_transform(ml_df)"
   ]
  },
  {
   "cell_type": "code",
   "execution_count": 39,
   "metadata": {},
   "outputs": [
    {
     "data": {
      "text/plain": [
       "array([[ 1.64643511, -1.51578882, -1.03813271,  0.55554197,  0.39008869,\n",
       "        -0.46606241, -1.24916608, -1.19085537, -0.47901952, -0.35396975,\n",
       "         0.54445733,  1.06415728,  1.054303  , -0.79213642, -0.9849722 ],\n",
       "       [ 1.64643511, -1.51578882, -1.14963129,  0.53143524,  0.38821385,\n",
       "        -0.46606241, -1.21303066, -1.19085537, -0.47901952, -0.35396975,\n",
       "         0.54445733,  1.06415728,  1.054303  , -0.79213642, -0.9849722 ],\n",
       "       [ 1.64643511, -1.51578882, -1.03813271, -0.70001676, -0.76293825,\n",
       "        -0.46606241, -1.24916608, -1.19085537, -0.47901952, -0.35396975,\n",
       "         0.54445733,  1.06415728,  1.054303  , -0.79213642, -0.9849722 ],\n",
       "       [ 1.64643511, -1.51578882,  1.65029488,  0.52741746,  0.3994629 ,\n",
       "        -0.46606241, -1.02921133, -1.19085537, -0.47901952, -0.35396975,\n",
       "         0.54445733,  1.06415728,  1.054303  , -0.79213642, -0.9849722 ],\n",
       "       [ 1.64643511, -1.51578882, -1.14307255,  1.52985555,  1.47749622,\n",
       "        -0.46606241, -0.66157266, -0.79106762, -0.47901952, -0.35396975,\n",
       "         0.54445733,  1.06415728,  1.054303  , -0.79213642, -0.9849722 ]])"
      ]
     },
     "execution_count": 39,
     "metadata": {},
     "output_type": "execute_result"
    }
   ],
   "source": [
    "flight_data_scaled[:5]"
   ]
  },
  {
   "cell_type": "code",
   "execution_count": 40,
   "metadata": {},
   "outputs": [
    {
     "name": "stdout",
     "output_type": "stream",
     "text": [
      "4.1466175510206776e-17\n",
      "0.9999999999999999\n"
     ]
    }
   ],
   "source": [
    "print(np.mean(flight_data_scaled[:,0]))\n",
    "print(np.std(flight_data_scaled[:,0]))"
   ]
  },
  {
   "cell_type": "code",
   "execution_count": 41,
   "metadata": {},
   "outputs": [],
   "source": [
    "flight_df = flight_data_scaled"
   ]
  },
  {
   "cell_type": "code",
   "execution_count": 42,
   "metadata": {},
   "outputs": [
    {
     "data": {
      "text/plain": [
       "(372868, 15)"
      ]
     },
     "execution_count": 42,
     "metadata": {},
     "output_type": "execute_result"
    }
   ],
   "source": [
    "flight_data_scaled.shape"
   ]
  },
  {
   "cell_type": "markdown",
   "metadata": {},
   "source": [
    " ## Split our data into training and testing"
   ]
  },
  {
   "cell_type": "code",
   "execution_count": 43,
   "metadata": {},
   "outputs": [
    {
     "data": {
      "text/plain": [
       "(279651, 14)"
      ]
     },
     "execution_count": 43,
     "metadata": {},
     "output_type": "execute_result"
    }
   ],
   "source": [
    "from sklearn.model_selection import train_test_split\n",
    "\n",
    "X_train, X_test, y_train, y_test = train_test_split(X, \n",
    "                                                    y, \n",
    "                                                    random_state=1, \n",
    "                                                    stratify=y)\n",
    "X_train.shape"
   ]
  },
  {
   "cell_type": "markdown",
   "metadata": {},
   "source": [
    " ## Create a Logistic Regression Model"
   ]
  },
  {
   "cell_type": "code",
   "execution_count": 44,
   "metadata": {},
   "outputs": [],
   "source": [
    "from sklearn.linear_model import LogisticRegression\n",
    "classifier = LogisticRegression(solver='lbfgs',\n",
    "                                max_iter=1000,\n",
    "                                random_state=1)"
   ]
  },
  {
   "cell_type": "markdown",
   "metadata": {},
   "source": [
    " ## Fit (train) or model using the training data"
   ]
  },
  {
   "cell_type": "code",
   "execution_count": 45,
   "metadata": {},
   "outputs": [
    {
     "data": {
      "text/plain": [
       "LogisticRegression(max_iter=1000, random_state=1)"
      ]
     },
     "execution_count": 45,
     "metadata": {},
     "output_type": "execute_result"
    }
   ],
   "source": [
    "classifier.fit(X_train, y_train)"
   ]
  },
  {
   "cell_type": "markdown",
   "metadata": {},
   "source": [
    " ## Make predictions"
   ]
  },
  {
   "cell_type": "code",
   "execution_count": 46,
   "metadata": {},
   "outputs": [
    {
     "data": {
      "text/html": [
       "<div>\n",
       "<style scoped>\n",
       "    .dataframe tbody tr th:only-of-type {\n",
       "        vertical-align: middle;\n",
       "    }\n",
       "\n",
       "    .dataframe tbody tr th {\n",
       "        vertical-align: top;\n",
       "    }\n",
       "\n",
       "    .dataframe thead th {\n",
       "        text-align: right;\n",
       "    }\n",
       "</style>\n",
       "<table border=\"1\" class=\"dataframe\">\n",
       "  <thead>\n",
       "    <tr style=\"text-align: right;\">\n",
       "      <th></th>\n",
       "      <th>Prediction</th>\n",
       "      <th>Actual</th>\n",
       "    </tr>\n",
       "  </thead>\n",
       "  <tbody>\n",
       "    <tr>\n",
       "      <th>0</th>\n",
       "      <td>0</td>\n",
       "      <td>0</td>\n",
       "    </tr>\n",
       "    <tr>\n",
       "      <th>1</th>\n",
       "      <td>0</td>\n",
       "      <td>0</td>\n",
       "    </tr>\n",
       "    <tr>\n",
       "      <th>2</th>\n",
       "      <td>0</td>\n",
       "      <td>0</td>\n",
       "    </tr>\n",
       "    <tr>\n",
       "      <th>3</th>\n",
       "      <td>0</td>\n",
       "      <td>0</td>\n",
       "    </tr>\n",
       "    <tr>\n",
       "      <th>4</th>\n",
       "      <td>0</td>\n",
       "      <td>1</td>\n",
       "    </tr>\n",
       "    <tr>\n",
       "      <th>5</th>\n",
       "      <td>0</td>\n",
       "      <td>0</td>\n",
       "    </tr>\n",
       "    <tr>\n",
       "      <th>6</th>\n",
       "      <td>0</td>\n",
       "      <td>0</td>\n",
       "    </tr>\n",
       "    <tr>\n",
       "      <th>7</th>\n",
       "      <td>0</td>\n",
       "      <td>1</td>\n",
       "    </tr>\n",
       "    <tr>\n",
       "      <th>8</th>\n",
       "      <td>0</td>\n",
       "      <td>0</td>\n",
       "    </tr>\n",
       "    <tr>\n",
       "      <th>9</th>\n",
       "      <td>0</td>\n",
       "      <td>1</td>\n",
       "    </tr>\n",
       "    <tr>\n",
       "      <th>10</th>\n",
       "      <td>0</td>\n",
       "      <td>0</td>\n",
       "    </tr>\n",
       "    <tr>\n",
       "      <th>11</th>\n",
       "      <td>0</td>\n",
       "      <td>0</td>\n",
       "    </tr>\n",
       "    <tr>\n",
       "      <th>12</th>\n",
       "      <td>0</td>\n",
       "      <td>0</td>\n",
       "    </tr>\n",
       "    <tr>\n",
       "      <th>13</th>\n",
       "      <td>0</td>\n",
       "      <td>0</td>\n",
       "    </tr>\n",
       "    <tr>\n",
       "      <th>14</th>\n",
       "      <td>0</td>\n",
       "      <td>0</td>\n",
       "    </tr>\n",
       "    <tr>\n",
       "      <th>15</th>\n",
       "      <td>0</td>\n",
       "      <td>1</td>\n",
       "    </tr>\n",
       "    <tr>\n",
       "      <th>16</th>\n",
       "      <td>0</td>\n",
       "      <td>0</td>\n",
       "    </tr>\n",
       "    <tr>\n",
       "      <th>17</th>\n",
       "      <td>0</td>\n",
       "      <td>0</td>\n",
       "    </tr>\n",
       "    <tr>\n",
       "      <th>18</th>\n",
       "      <td>0</td>\n",
       "      <td>0</td>\n",
       "    </tr>\n",
       "    <tr>\n",
       "      <th>19</th>\n",
       "      <td>0</td>\n",
       "      <td>0</td>\n",
       "    </tr>\n",
       "  </tbody>\n",
       "</table>\n",
       "</div>"
      ],
      "text/plain": [
       "    Prediction  Actual\n",
       "0            0       0\n",
       "1            0       0\n",
       "2            0       0\n",
       "3            0       0\n",
       "4            0       1\n",
       "5            0       0\n",
       "6            0       0\n",
       "7            0       1\n",
       "8            0       0\n",
       "9            0       1\n",
       "10           0       0\n",
       "11           0       0\n",
       "12           0       0\n",
       "13           0       0\n",
       "14           0       0\n",
       "15           0       1\n",
       "16           0       0\n",
       "17           0       0\n",
       "18           0       0\n",
       "19           0       0"
      ]
     },
     "execution_count": 46,
     "metadata": {},
     "output_type": "execute_result"
    }
   ],
   "source": [
    "y_pred = classifier.predict(X_test)\n",
    "results = pd.DataFrame({\"Prediction\": y_pred, \"Actual\": y_test}).reset_index(drop=True)\n",
    "results.head(20)"
   ]
  },
  {
   "cell_type": "code",
   "execution_count": 47,
   "metadata": {},
   "outputs": [
    {
     "name": "stdout",
     "output_type": "stream",
     "text": [
      "0.8239913320531662\n"
     ]
    }
   ],
   "source": [
    "from sklearn.metrics import accuracy_score\n",
    "print(accuracy_score(y_test, y_pred))"
   ]
  },
  {
   "cell_type": "code",
   "execution_count": 48,
   "metadata": {},
   "outputs": [
    {
     "data": {
      "text/plain": [
       "array([[76358,   224],\n",
       "       [16183,   452]], dtype=int64)"
      ]
     },
     "execution_count": 48,
     "metadata": {},
     "output_type": "execute_result"
    }
   ],
   "source": [
    "confusion_matrix(y_test, y_pred)"
   ]
  },
  {
   "cell_type": "code",
   "execution_count": 49,
   "metadata": {},
   "outputs": [
    {
     "name": "stdout",
     "output_type": "stream",
     "text": [
      "                   pre       rec       spe        f1       geo       iba       sup\n",
      "\n",
      "          0       0.83      1.00      0.03      0.90      0.16      0.03     76582\n",
      "          1       0.67      0.03      1.00      0.05      0.16      0.02     16635\n",
      "\n",
      "avg / total       0.80      0.82      0.20      0.75      0.16      0.03     93217\n",
      "\n"
     ]
    }
   ],
   "source": [
    "# Print the imbalanced classification report\n",
    "print(classification_report_imbalanced(y_test, y_pred))"
   ]
  },
  {
   "cell_type": "code",
   "execution_count": null,
   "metadata": {},
   "outputs": [],
   "source": []
  }
 ],
 "metadata": {
  "file_extension": ".py",
  "kernelspec": {
   "display_name": "mlenv",
   "language": "python",
   "name": "mlenv"
  },
  "language_info": {
   "codemirror_mode": {
    "name": "ipython",
    "version": 3
   },
   "file_extension": ".py",
   "mimetype": "text/x-python",
   "name": "python",
   "nbconvert_exporter": "python",
   "pygments_lexer": "ipython3",
   "version": "3.7.13"
  },
  "mimetype": "text/x-python",
  "name": "python",
  "npconvert_exporter": "python",
  "pygments_lexer": "ipython3",
  "version": 3
 },
 "nbformat": 4,
 "nbformat_minor": 4
}
