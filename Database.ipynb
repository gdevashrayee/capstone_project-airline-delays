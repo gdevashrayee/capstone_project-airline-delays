{
  "cells": [
    {
      "cell_type": "code",
      "execution_count": 1,
      "id": "09794356",
      "metadata": {
        "colab": {
          "base_uri": "https://localhost:8080/"
        },
        "id": "09794356",
        "outputId": "b59c5cf0-4350-4a81-854f-41e7859d1c1f"
      },
      "outputs": [
        {
          "output_type": "stream",
          "name": "stdout",
          "text": [
            "\r0% [Working]\r            \rGet:1 http://security.ubuntu.com/ubuntu bionic-security InRelease [88.7 kB]\n",
            "\r0% [Waiting for headers] [1 InRelease 14.2 kB/88.7 kB 16%] [Connected to cloud.\r                                                                               \rHit:2 http://archive.ubuntu.com/ubuntu bionic InRelease\n",
            "\r0% [Waiting for headers] [1 InRelease 14.2 kB/88.7 kB 16%] [Connected to cloud.\r                                                                               \rGet:3 https://developer.download.nvidia.com/compute/cuda/repos/ubuntu1804/x86_64  InRelease [1,581 B]\n",
            "\r0% [Waiting for headers] [1 InRelease 14.2 kB/88.7 kB 16%] [Connected to cloud.\r0% [2 InRelease gpgv 242 kB] [Waiting for headers] [1 InRelease 14.2 kB/88.7 kB\r                                                                               \rGet:4 http://archive.ubuntu.com/ubuntu bionic-updates InRelease [88.7 kB]\n",
            "Get:5 https://cloud.r-project.org/bin/linux/ubuntu bionic-cran40/ InRelease [3,626 B]\n",
            "Ign:6 https://developer.download.nvidia.com/compute/machine-learning/repos/ubuntu1804/x86_64  InRelease\n",
            "Get:7 http://archive.ubuntu.com/ubuntu bionic-backports InRelease [74.6 kB]\n",
            "Hit:8 https://developer.download.nvidia.com/compute/machine-learning/repos/ubuntu1804/x86_64  Release\n",
            "Get:9 http://ppa.launchpad.net/c2d4u.team/c2d4u4.0+/ubuntu bionic InRelease [15.9 kB]\n",
            "Hit:10 http://ppa.launchpad.net/cran/libgit2/ubuntu bionic InRelease\n",
            "Get:11 https://developer.download.nvidia.com/compute/cuda/repos/ubuntu1804/x86_64  Packages [901 kB]\n",
            "Get:12 http://ppa.launchpad.net/deadsnakes/ppa/ubuntu bionic InRelease [15.9 kB]\n",
            "Get:13 https://cloud.r-project.org/bin/linux/ubuntu bionic-cran40/ Packages [87.8 kB]\n",
            "Hit:14 http://ppa.launchpad.net/graphics-drivers/ppa/ubuntu bionic InRelease\n",
            "Get:15 http://security.ubuntu.com/ubuntu bionic-security/main amd64 Packages [2,905 kB]\n",
            "Get:16 http://archive.ubuntu.com/ubuntu bionic-updates/universe amd64 Packages [2,306 kB]\n",
            "Get:17 http://security.ubuntu.com/ubuntu bionic-security/universe amd64 Packages [1,527 kB]\n",
            "Get:19 http://archive.ubuntu.com/ubuntu bionic-updates/restricted amd64 Packages [1,109 kB]\n",
            "Get:20 http://security.ubuntu.com/ubuntu bionic-security/restricted amd64 Packages [1,068 kB]\n",
            "Get:21 http://archive.ubuntu.com/ubuntu bionic-updates/main amd64 Packages [3,336 kB]\n",
            "Get:22 http://security.ubuntu.com/ubuntu bionic-security/multiverse amd64 Packages [22.8 kB]\n",
            "Get:23 http://ppa.launchpad.net/c2d4u.team/c2d4u4.0+/ubuntu bionic/main Sources [2,076 kB]\n",
            "Get:24 http://archive.ubuntu.com/ubuntu bionic-updates/multiverse amd64 Packages [29.9 kB]\n",
            "Get:25 http://ppa.launchpad.net/c2d4u.team/c2d4u4.0+/ubuntu bionic/main amd64 Packages [1,063 kB]\n",
            "Get:26 http://ppa.launchpad.net/deadsnakes/ppa/ubuntu bionic/main amd64 Packages [45.3 kB]\n",
            "Fetched 16.8 MB in 5s (3,065 kB/s)\n",
            "Reading package lists... Done\n"
          ]
        }
      ],
      "source": [
        "import os\n",
        "# Find the latest version of spark 3.0 from http://www.apache.org/dist/spark/ and enter as the spark version\n",
        "# For example:\n",
        "# spark_version = 'spark-3.0.3'\n",
        "spark_version = 'spark-3.3.0'\n",
        "os.environ['SPARK_VERSION']=spark_version\n",
        "\n",
        "# Install Spark and Java\n",
        "!apt-get update\n",
        "!apt-get install openjdk-11-jdk-headless -qq > /dev/null\n",
        "!wget -q http://www.apache.org/dist/spark/$SPARK_VERSION/$SPARK_VERSION-bin-hadoop2.tgz\n",
        "!tar xf $SPARK_VERSION-bin-hadoop2.tgz\n",
        "!pip install -q findspark\n",
        "\n",
        "# Set Environment Variables\n",
        "import os\n",
        "os.environ[\"JAVA_HOME\"] = \"/usr/lib/jvm/java-11-openjdk-amd64\"\n",
        "os.environ[\"SPARK_HOME\"] = f\"/content/{spark_version}-bin-hadoop2\"\n",
        "\n",
        "# Start a SparkSession\n",
        "import findspark\n",
        "findspark.init()"
      ]
    },
    {
      "cell_type": "code",
      "source": [
        "!pip install -U pyarrow"
      ],
      "metadata": {
        "id": "PmoDpVfPS3xa",
        "colab": {
          "base_uri": "https://localhost:8080/"
        },
        "outputId": "8ba8e2e7-cc5c-4274-ea48-c3dcfdde667d"
      },
      "id": "PmoDpVfPS3xa",
      "execution_count": 2,
      "outputs": [
        {
          "output_type": "stream",
          "name": "stdout",
          "text": [
            "Looking in indexes: https://pypi.org/simple, https://us-python.pkg.dev/colab-wheels/public/simple/\n",
            "Requirement already satisfied: pyarrow in /usr/local/lib/python3.7/dist-packages (6.0.1)\n",
            "Collecting pyarrow\n",
            "  Downloading pyarrow-9.0.0-cp37-cp37m-manylinux_2_17_x86_64.manylinux2014_x86_64.whl (35.3 MB)\n",
            "\u001b[K     |████████████████████████████████| 35.3 MB 135 kB/s \n",
            "\u001b[?25hRequirement already satisfied: numpy>=1.16.6 in /usr/local/lib/python3.7/dist-packages (from pyarrow) (1.21.6)\n",
            "Installing collected packages: pyarrow\n",
            "  Attempting uninstall: pyarrow\n",
            "    Found existing installation: pyarrow 6.0.1\n",
            "    Uninstalling pyarrow-6.0.1:\n",
            "      Successfully uninstalled pyarrow-6.0.1\n",
            "Successfully installed pyarrow-9.0.0\n"
          ]
        }
      ]
    },
    {
      "cell_type": "code",
      "execution_count": 3,
      "id": "cdcbb902",
      "metadata": {
        "colab": {
          "base_uri": "https://localhost:8080/"
        },
        "id": "cdcbb902",
        "outputId": "f098429f-f72a-440f-b08e-956a8e23c3fd"
      },
      "outputs": [
        {
          "output_type": "stream",
          "name": "stdout",
          "text": [
            "--2022-08-03 22:33:01--  https://jdbc.postgresql.org/download/postgresql-42.2.16.jar\n",
            "Resolving jdbc.postgresql.org (jdbc.postgresql.org)... 72.32.157.228, 2001:4800:3e1:1::228\n",
            "Connecting to jdbc.postgresql.org (jdbc.postgresql.org)|72.32.157.228|:443... connected.\n",
            "HTTP request sent, awaiting response... 200 OK\n",
            "Length: 1002883 (979K) [application/java-archive]\n",
            "Saving to: ‘postgresql-42.2.16.jar’\n",
            "\n",
            "postgresql-42.2.16. 100%[===================>] 979.38K  5.31MB/s    in 0.2s    \n",
            "\n",
            "2022-08-03 22:33:02 (5.31 MB/s) - ‘postgresql-42.2.16.jar’ saved [1002883/1002883]\n",
            "\n"
          ]
        }
      ],
      "source": [
        "!wget https://jdbc.postgresql.org/download/postgresql-42.2.16.jar"
      ]
    },
    {
      "cell_type": "code",
      "execution_count": 4,
      "id": "bcec77f0",
      "metadata": {
        "id": "bcec77f0"
      },
      "outputs": [],
      "source": [
        "from pyspark.sql import SparkSession\n",
        "spark = SparkSession.builder.appName(\"CloudETL\").config(\"spark.driver.extraClassPath\",\"/content/postgresql-42.2.16.jar\").getOrCreate()"
      ]
    },
    {
      "cell_type": "code",
      "execution_count": 5,
      "id": "286c02e6",
      "metadata": {
        "id": "286c02e6"
      },
      "outputs": [],
      "source": [
        "from pyspark import SparkFiles\n",
        "url =\"https://group13-bucket.s3.us-east-2.amazonaws.com/ONTIME_REPORTING_01_TC.csv\"\n",
        "spark.sparkContext.addFile(url)\n",
        "ontimereporting_df = spark.read.csv(SparkFiles.get(\"ONTIME_REPORTING_01_TC.csv\"), sep=\",\", header=True, inferSchema=True)"
      ]
    },
    {
      "cell_type": "code",
      "execution_count": 6,
      "id": "899ca74b",
      "metadata": {
        "id": "899ca74b",
        "colab": {
          "base_uri": "https://localhost:8080/"
        },
        "outputId": "41da14d8-55d7-42eb-bc39-76c8e866ee1a"
      },
      "outputs": [
        {
          "output_type": "stream",
          "name": "stdout",
          "text": [
            "+-----+------------+---------+-----------+-----------------+--------+-----------------+-----------------+------+----------------+---------------+----+--------------+------------+--------+-------------+---------+------------+------------+--------+-------------+------------+---------+-----------------+----------------+-------------------+--------+--------------+-------------+-------------+---------+--------------+-------------------+\n",
            "|MONTH|DAY_OF_MONTH|     DATE|DAY_OF_WEEK|OP_UNIQUE_CARRIER|TAIL_NUM|OP_CARRIER_FL_NUM|ORIGIN_AIRPORT_ID|ORIGIN|ORIGIN_CITY_NAME|DEST_AIRPORT_ID|DEST|DEST_CITY_NAME|CRS_DEP_TIME|DEP_TIME|DEP_DELAY_NEW|DEP_DEL15|DEP_TIME_BLK|CRS_ARR_TIME|ARR_TIME|ARR_DELAY_NEW|ARR_TIME_BLK|CANCELLED|CANCELLATION_CODE|CRS_ELAPSED_TIME|ACTUAL_ELAPSED_TIME|DISTANCE|DISTANCE_GROUP|CARRIER_DELAY|WEATHER_DELAY|NAS_DELAY|SECURITY_DELAY|LATE_AIRCRAFT_DELAY|\n",
            "+-----+------------+---------+-----------+-----------------+--------+-----------------+-----------------+------+----------------+---------------+----+--------------+------------+--------+-------------+---------+------------+------------+--------+-------------+------------+---------+-----------------+----------------+-------------------+--------+--------------+-------------+-------------+---------+--------------+-------------------+\n",
            "|    1|           6| 1-6-2019|          7|               9E|  N8694A|             3280|            10397|   ATL|      Atlanta GA|          11150| CSG|   Columbus GA|        1645|    1643|            0|        0|   1600-1659|        1732|    1720|            0|   1700-1759|        0|             null|              47|                 37|      83|             1|         null|         null|     null|          null|               null|\n",
            "|    1|           7| 1-7-2019|          1|               9E|  N8970D|             3280|            10397|   ATL|      Atlanta GA|          11150| CSG|   Columbus GA|        1645|    1640|            0|        0|   1600-1659|        1732|    1712|            0|   1700-1759|        0|             null|              47|                 32|      83|             1|         null|         null|     null|          null|               null|\n",
            "|    1|           8| 1-8-2019|          2|               9E|  N820AY|             3280|            10397|   ATL|      Atlanta GA|          11150| CSG|   Columbus GA|        1645|    1640|            0|        0|   1600-1659|        1732|    1719|            0|   1700-1759|        0|             null|              47|                 39|      83|             1|         null|         null|     null|          null|               null|\n",
            "|    1|           9| 1-9-2019|          3|               9E|  N840AY|             3280|            10397|   ATL|      Atlanta GA|          11150| CSG|   Columbus GA|        1645|    1640|            0|        0|   1600-1659|        1732|    1717|            0|   1700-1759|        0|             null|              47|                 37|      83|             1|         null|         null|     null|          null|               null|\n",
            "|    1|          10|1-10-2019|          4|               9E|  N8969A|             3280|            10397|   ATL|      Atlanta GA|          11150| CSG|   Columbus GA|        1645|    1640|            0|        0|   1600-1659|        1732|    1721|            0|   1700-1759|        0|             null|              47|                 41|      83|             1|         null|         null|     null|          null|               null|\n",
            "|    1|          11|1-11-2019|          5|               9E|  N8683B|             3280|            10397|   ATL|      Atlanta GA|          11150| CSG|   Columbus GA|        1645|    1640|            0|        0|   1600-1659|        1732|    1736|            4|   1700-1759|        0|             null|              47|                 56|      83|             1|         null|         null|     null|          null|               null|\n",
            "|    1|          13|1-13-2019|          7|               9E|  N8688C|             3280|            10397|   ATL|      Atlanta GA|          11150| CSG|   Columbus GA|        1645|    1714|           29|        1|   1600-1659|        1732|    1756|           24|   1700-1759|        0|             null|              47|                 42|      83|             1|           18|            0|        0|             0|                  6|\n",
            "|    1|          14|1-14-2019|          1|               9E|  N8886A|             3280|            10397|   ATL|      Atlanta GA|          11150| CSG|   Columbus GA|        1645|    1639|            0|        0|   1600-1659|        1732|    1716|            0|   1700-1759|        0|             null|              47|                 37|      83|             1|         null|         null|     null|          null|               null|\n",
            "|    1|          15|1-15-2019|          2|               9E|  N8928A|             3280|            10397|   ATL|      Atlanta GA|          11150| CSG|   Columbus GA|        1645|    1640|            0|        0|   1600-1659|        1732|    1722|            0|   1700-1759|        0|             null|              47|                 42|      83|             1|         null|         null|     null|          null|               null|\n",
            "|    1|          16|1-16-2019|          3|               9E|  N981EV|             3280|            10397|   ATL|      Atlanta GA|          11150| CSG|   Columbus GA|        1645|    1902|          137|        1|   1600-1659|        1732|    1944|          132|   1700-1759|        0|             null|              47|                 42|      83|             1|          132|            0|        0|             0|                  0|\n",
            "|    1|          17|1-17-2019|          4|               9E|  N8986B|             3280|            10397|   ATL|      Atlanta GA|          11150| CSG|   Columbus GA|        1645|    1641|            0|        0|   1600-1659|        1732|    1723|            0|   1700-1759|        0|             null|              47|                 42|      83|             1|         null|         null|     null|          null|               null|\n",
            "|    1|          18|1-18-2019|          5|               9E|  N8683B|             3280|            10397|   ATL|      Atlanta GA|          11150| CSG|   Columbus GA|        1645|    1640|            0|        0|   1600-1659|        1732|    1716|            0|   1700-1759|        0|             null|              47|                 36|      83|             1|         null|         null|     null|          null|               null|\n",
            "|    1|          21|1-21-2019|          1|               9E|  N835AY|             3280|            10397|   ATL|      Atlanta GA|          11150| CSG|   Columbus GA|        1645|    1641|            0|        0|   1600-1659|        1732|    1737|            5|   1700-1759|        0|             null|              47|                 56|      83|             1|         null|         null|     null|          null|               null|\n",
            "|    1|          22|1-22-2019|          2|               9E|  N8896A|             3280|            10397|   ATL|      Atlanta GA|          11150| CSG|   Columbus GA|        1645|    1640|            0|        0|   1600-1659|        1732|    1721|            0|   1700-1759|        0|             null|              47|                 41|      83|             1|         null|         null|     null|          null|               null|\n",
            "|    1|          23|1-23-2019|          3|               9E|  N8976E|             3280|            10397|   ATL|      Atlanta GA|          11150| CSG|   Columbus GA|        1645|    1827|          102|        1|   1600-1659|        1732|    1913|          101|   1700-1759|        0|             null|              47|                 46|      83|             1|          100|            0|        0|             0|                  1|\n",
            "|    1|          24|1-24-2019|          4|               9E|  N8980A|             3280|            10397|   ATL|      Atlanta GA|          11150| CSG|   Columbus GA|        1645|    1650|            5|        0|   1600-1659|        1732|    1731|            0|   1700-1759|        0|             null|              47|                 41|      83|             1|         null|         null|     null|          null|               null|\n",
            "|    1|          25|1-25-2019|          5|               9E|  N927EV|             3280|            10397|   ATL|      Atlanta GA|          11150| CSG|   Columbus GA|        1645|    1641|            0|        0|   1600-1659|        1732|    1720|            0|   1700-1759|        0|             null|              47|                 39|      83|             1|         null|         null|     null|          null|               null|\n",
            "|    1|          27|1-27-2019|          7|               9E|  N832AY|             3280|            10397|   ATL|      Atlanta GA|          11150| CSG|   Columbus GA|        1645|    1638|            0|        0|   1600-1659|        1732|    1719|            0|   1700-1759|        0|             null|              47|                 41|      83|             1|         null|         null|     null|          null|               null|\n",
            "|    1|          28|1-28-2019|          1|               9E|  N8986B|             3280|            10397|   ATL|      Atlanta GA|          11150| CSG|   Columbus GA|        1645|    1639|            0|        0|   1600-1659|        1732|    1718|            0|   1700-1759|        0|             null|              47|                 39|      83|             1|         null|         null|     null|          null|               null|\n",
            "|    1|          29|1-29-2019|          2|               9E|  N8918B|             3280|            10397|   ATL|      Atlanta GA|          11150| CSG|   Columbus GA|        1645|    1640|            0|        0|   1600-1659|        1732|    1712|            0|   1700-1759|        0|             null|              47|                 32|      83|             1|         null|         null|     null|          null|               null|\n",
            "+-----+------------+---------+-----------+-----------------+--------+-----------------+-----------------+------+----------------+---------------+----+--------------+------------+--------+-------------+---------+------------+------------+--------+-------------+------------+---------+-----------------+----------------+-------------------+--------+--------------+-------------+-------------+---------+--------------+-------------------+\n",
            "only showing top 20 rows\n",
            "\n"
          ]
        }
      ],
      "source": [
        "# Show DataFrame\n",
        "ontimereporting_df.show()"
      ]
    },
    {
      "cell_type": "code",
      "source": [
        "final_ontimereporting_df = ontimereporting_df.select([\"month\", \"day_of_month\", \"date\", \"day_of_week\", \"origin_airport_id\", \"dest_airport_id\", \"dest_city_name\",\n",
        "\"dep_time\",\"dep_delay_new\", \"arr_time\", \"arr_delay_new\", \"dep_del15\", \"cancelled\", \"distance\", \"distance_group\"])\n",
        "final_ontimereporting_df.show()\n"
      ],
      "metadata": {
        "colab": {
          "base_uri": "https://localhost:8080/"
        },
        "id": "FdvC67jA3Uq2",
        "outputId": "2ff45004-9111-4189-d2eb-80c59b4c0e1c"
      },
      "id": "FdvC67jA3Uq2",
      "execution_count": 11,
      "outputs": [
        {
          "output_type": "stream",
          "name": "stdout",
          "text": [
            "+-----+------------+---------+-----------+-----------------+---------------+--------------+--------+-------------+--------+-------------+---------+---------+--------+--------------+\n",
            "|month|day_of_month|     date|day_of_week|origin_airport_id|dest_airport_id|dest_city_name|dep_time|dep_delay_new|arr_time|arr_delay_new|dep_del15|cancelled|distance|distance_group|\n",
            "+-----+------------+---------+-----------+-----------------+---------------+--------------+--------+-------------+--------+-------------+---------+---------+--------+--------------+\n",
            "|    1|           6| 1-6-2019|          7|            10397|          11150|   Columbus GA|    1643|            0|    1720|            0|        0|        0|      83|             1|\n",
            "|    1|           7| 1-7-2019|          1|            10397|          11150|   Columbus GA|    1640|            0|    1712|            0|        0|        0|      83|             1|\n",
            "|    1|           8| 1-8-2019|          2|            10397|          11150|   Columbus GA|    1640|            0|    1719|            0|        0|        0|      83|             1|\n",
            "|    1|           9| 1-9-2019|          3|            10397|          11150|   Columbus GA|    1640|            0|    1717|            0|        0|        0|      83|             1|\n",
            "|    1|          10|1-10-2019|          4|            10397|          11150|   Columbus GA|    1640|            0|    1721|            0|        0|        0|      83|             1|\n",
            "|    1|          11|1-11-2019|          5|            10397|          11150|   Columbus GA|    1640|            0|    1736|            4|        0|        0|      83|             1|\n",
            "|    1|          13|1-13-2019|          7|            10397|          11150|   Columbus GA|    1714|           29|    1756|           24|        1|        0|      83|             1|\n",
            "|    1|          14|1-14-2019|          1|            10397|          11150|   Columbus GA|    1639|            0|    1716|            0|        0|        0|      83|             1|\n",
            "|    1|          15|1-15-2019|          2|            10397|          11150|   Columbus GA|    1640|            0|    1722|            0|        0|        0|      83|             1|\n",
            "|    1|          16|1-16-2019|          3|            10397|          11150|   Columbus GA|    1902|          137|    1944|          132|        1|        0|      83|             1|\n",
            "|    1|          17|1-17-2019|          4|            10397|          11150|   Columbus GA|    1641|            0|    1723|            0|        0|        0|      83|             1|\n",
            "|    1|          18|1-18-2019|          5|            10397|          11150|   Columbus GA|    1640|            0|    1716|            0|        0|        0|      83|             1|\n",
            "|    1|          21|1-21-2019|          1|            10397|          11150|   Columbus GA|    1641|            0|    1737|            5|        0|        0|      83|             1|\n",
            "|    1|          22|1-22-2019|          2|            10397|          11150|   Columbus GA|    1640|            0|    1721|            0|        0|        0|      83|             1|\n",
            "|    1|          23|1-23-2019|          3|            10397|          11150|   Columbus GA|    1827|          102|    1913|          101|        1|        0|      83|             1|\n",
            "|    1|          24|1-24-2019|          4|            10397|          11150|   Columbus GA|    1650|            5|    1731|            0|        0|        0|      83|             1|\n",
            "|    1|          25|1-25-2019|          5|            10397|          11150|   Columbus GA|    1641|            0|    1720|            0|        0|        0|      83|             1|\n",
            "|    1|          27|1-27-2019|          7|            10397|          11150|   Columbus GA|    1638|            0|    1719|            0|        0|        0|      83|             1|\n",
            "|    1|          28|1-28-2019|          1|            10397|          11150|   Columbus GA|    1639|            0|    1718|            0|        0|        0|      83|             1|\n",
            "|    1|          29|1-29-2019|          2|            10397|          11150|   Columbus GA|    1640|            0|    1712|            0|        0|        0|      83|             1|\n",
            "+-----+------------+---------+-----------+-----------------+---------------+--------------+--------+-------------+--------+-------------+---------+---------+--------+--------------+\n",
            "only showing top 20 rows\n",
            "\n"
          ]
        }
      ]
    },
    {
      "cell_type": "code",
      "execution_count": 7,
      "id": "2de975eb",
      "metadata": {
        "id": "2de975eb",
        "colab": {
          "base_uri": "https://localhost:8080/"
        },
        "outputId": "8d9003bb-1ec7-4cd1-e313-b23c0224ea3d"
      },
      "outputs": [
        {
          "output_type": "stream",
          "name": "stdout",
          "text": [
            "+-----------+--------------------+---------+-----+----+----+----+----+----+----+----+----+----+----+----+----+----+----+----+----+----+----+----+----+----+----+----+----+----+----+----+----+\n",
            "|    STATION|                NAME|     DATE| AWND|PGTM|PRCP|SNOW|SNWD|TAVG|TMAX|TMIN|WDF2|WDF5|WSF2|WSF5|WT01|WT02|WT03|WT04|WT05|WT06|WT07|WT08|WT09|WESD|WT10|PSUN|TSUN|SN32|SX32|TOBS|WT11|\n",
            "+-----------+--------------------+---------+-----+----+----+----+----+----+----+----+----+----+----+----+----+----+----+----+----+----+----+----+----+----+----+----+----+----+----+----+----+\n",
            "|USW00013874|ATLANTA HARTSFIEL...| 1-1-2019|  4.7|null|0.14| 0.0| 0.0|  64|  66|  57| 310| 310|15.0|19.0|   1|null|null|null|null|null|null|null|null|null|null|null|null|null|null|null|null|\n",
            "|USW00013874|ATLANTA HARTSFIEL...| 1-2-2019| 4.92|null|0.57| 0.0| 0.0|  56|  59|  49|  70|  50|12.1|15.0|   1|null|null|null|null|null|null|   1|null|null|null|null|null|null|null|null|null|\n",
            "|USW00013874|ATLANTA HARTSFIEL...| 1-3-2019| 5.37|null|0.15| 0.0| 0.0|  52|  55|  51| 340| 330|15.0|18.1|   1|null|null|null|null|null|null|null|null|null|null|null|null|null|null|null|null|\n",
            "|USW00013874|ATLANTA HARTSFIEL...| 1-4-2019|12.08|null|1.44| 0.0| 0.0|  56|  66|  45| 260| 260|28.0|34.0|   1|null|null|null|null|null|null|null|null|null|null|null|null|null|null|null|null|\n",
            "|USW00013874|ATLANTA HARTSFIEL...| 1-5-2019|13.42|null| 0.0| 0.0| 0.0|  49|  59|  44| 280| 330|23.9|33.1|null|null|null|null|null|null|null|null|null|null|null|null|null|null|null|null|null|\n",
            "|USW00013874|ATLANTA HARTSFIEL...| 1-6-2019| 6.49|null| 0.0| 0.0| 0.0|  53|  69|  43| 320| 320|13.0|15.0|null|null|null|null|null|null|null|null|null|null|null|null|null|null|null|null|null|\n",
            "|USW00013874|ATLANTA HARTSFIEL...| 1-7-2019| 5.14|null| 0.0| 0.0| 0.0|  55|  69|  45| 160| 160|15.0|19.0|null|null|null|null|null|null|null|null|null|null|null|null|null|null|null|null|null|\n",
            "|USW00013874|ATLANTA HARTSFIEL...| 1-8-2019| 8.05|null| 0.0| 0.0| 0.0|  57|  65|  50| 290| 260|16.1|21.9|null|null|null|null|null|null|null|   1|null|null|null|null|null|null|null|null|null|\n",
            "|USW00013874|ATLANTA HARTSFIEL...| 1-9-2019|17.45|null| 0.0| 0.0| 0.0|  50|  56|  39| 320| 320|28.0|34.0|null|null|null|null|null|null|null|null|null|null|null|null|null|null|null|null|null|\n",
            "|USW00013874|ATLANTA HARTSFIEL...|1-10-2019| 13.2|null| 0.0| 0.0| 0.0|  38|  45|  30| 330| 320|23.9|33.1|null|null|null|null|null|null|null|null|null|null|null|null|null|null|null|null|null|\n",
            "|USW00013874|ATLANTA HARTSFIEL...|1-11-2019| 6.93|null| 0.0| 0.0| 0.0|  40|  54|  30| 120| 110|12.1|15.0|null|null|null|null|null|null|null|null|null|null|null|null|null|null|null|null|null|\n",
            "|USW00013874|ATLANTA HARTSFIEL...|1-12-2019|12.97|null|0.35| 0.0| 0.0|  43|  44|  37|  80|  90|19.9|25.1|   1|null|null|null|null|null|null|null|null|null|null|null|null|null|null|null|null|\n",
            "|USW00013874|ATLANTA HARTSFIEL...|1-13-2019| 8.05|null|0.27| 0.0| 0.0|  39|  48|  35|  70|  80|17.0|19.9|   1|   1|null|null|null|null|null|null|null|null|null|null|null|null|null|null|null|\n",
            "|USW00013874|ATLANTA HARTSFIEL...|1-14-2019|11.63|null| 0.0| 0.0| 0.0|  45|  47|  39| 330| 330|17.0|23.0|null|null|null|null|null|null|null|null|null|null|null|null|null|null|null|null|null|\n",
            "|USW00013874|ATLANTA HARTSFIEL...|1-15-2019|10.74|null| 0.0| 0.0| 0.0|  40|  46|  32| 320| 310|17.0|25.1|null|null|null|null|null|null|null|null|null|null|null|null|null|null|null|null|null|\n",
            "|USW00013874|ATLANTA HARTSFIEL...|1-16-2019| 7.61|null| 0.0| 0.0| 0.0|  38|  53|  30| 320| 330|13.0|16.1|   1|null|null|null|null|null|null|   1|null|null|null|null|null|null|null|null|null|\n",
            "|USW00013874|ATLANTA HARTSFIEL...|1-17-2019| 4.03|null| 0.1| 0.0| 0.0|  42|  50|  35| 180| 180| 8.9|13.0|   1|null|   1|null|null|null|null|   1|null|null|null|null|null|null|null|null|null|\n",
            "|USW00013874|ATLANTA HARTSFIEL...|1-18-2019| 2.91|null| 0.0| 0.0| 0.0|  50|  58|  47| 220| 220| 8.1|10.1|   1|null|null|null|null|null|null|null|null|null|null|null|null|null|null|null|null|\n",
            "|USW00013874|ATLANTA HARTSFIEL...|1-19-2019| 9.62|null|1.22| 0.0| 0.0|  55|  63|  51| 180| 170|19.9|28.0|   1|   1|null|null|null|null|null|null|null|null|null|null|null|null|null|null|null|\n",
            "|USW00013874|ATLANTA HARTSFIEL...|1-20-2019|20.36|null| 0.0| 0.0| 0.0|  42|  53|  29| 310| 310|30.0|42.9|   1|null|null|null|null|null|null|null|null|null|null|null|null|null|null|null|null|\n",
            "+-----------+--------------------+---------+-----+----+----+----+----+----+----+----+----+----+----+----+----+----+----+----+----+----+----+----+----+----+----+----+----+----+----+----+----+\n",
            "only showing top 20 rows\n",
            "\n"
          ]
        }
      ],
      "source": [
        "url =\"https://group13-bucket.s3.us-east-2.amazonaws.com/airport_weather_2019.csv\"\n",
        "spark.sparkContext.addFile(url)\n",
        "weather_df = spark.read.csv(SparkFiles.get(\"airport_weather_2019.csv\"), sep=\",\", header=True, inferSchema=True)\n",
        "\n",
        "# Show DataFrame\n",
        "weather_df.show()"
      ]
    },
    {
      "cell_type": "code",
      "source": [
        "final_weather_df = weather_df.select([\"date\", \"awnd\", \"prcp\", \"tavg\", \"wdf2\", \"wdf5\", \"wsf2\", \"wsf5\"])\n",
        "final_weather_df.show()"
      ],
      "metadata": {
        "colab": {
          "base_uri": "https://localhost:8080/"
        },
        "id": "2Mzv18r04BUT",
        "outputId": "e482ed79-4312-4e14-9897-f6d759704a75"
      },
      "id": "2Mzv18r04BUT",
      "execution_count": 15,
      "outputs": [
        {
          "output_type": "stream",
          "name": "stdout",
          "text": [
            "+---------+-----+----+----+----+----+----+----+\n",
            "|     date| awnd|prcp|tavg|wdf2|wdf5|wsf2|wsf5|\n",
            "+---------+-----+----+----+----+----+----+----+\n",
            "| 1-1-2019|  4.7|0.14|  64| 310| 310|15.0|19.0|\n",
            "| 1-2-2019| 4.92|0.57|  56|  70|  50|12.1|15.0|\n",
            "| 1-3-2019| 5.37|0.15|  52| 340| 330|15.0|18.1|\n",
            "| 1-4-2019|12.08|1.44|  56| 260| 260|28.0|34.0|\n",
            "| 1-5-2019|13.42| 0.0|  49| 280| 330|23.9|33.1|\n",
            "| 1-6-2019| 6.49| 0.0|  53| 320| 320|13.0|15.0|\n",
            "| 1-7-2019| 5.14| 0.0|  55| 160| 160|15.0|19.0|\n",
            "| 1-8-2019| 8.05| 0.0|  57| 290| 260|16.1|21.9|\n",
            "| 1-9-2019|17.45| 0.0|  50| 320| 320|28.0|34.0|\n",
            "|1-10-2019| 13.2| 0.0|  38| 330| 320|23.9|33.1|\n",
            "|1-11-2019| 6.93| 0.0|  40| 120| 110|12.1|15.0|\n",
            "|1-12-2019|12.97|0.35|  43|  80|  90|19.9|25.1|\n",
            "|1-13-2019| 8.05|0.27|  39|  70|  80|17.0|19.9|\n",
            "|1-14-2019|11.63| 0.0|  45| 330| 330|17.0|23.0|\n",
            "|1-15-2019|10.74| 0.0|  40| 320| 310|17.0|25.1|\n",
            "|1-16-2019| 7.61| 0.0|  38| 320| 330|13.0|16.1|\n",
            "|1-17-2019| 4.03| 0.1|  42| 180| 180| 8.9|13.0|\n",
            "|1-18-2019| 2.91| 0.0|  50| 220| 220| 8.1|10.1|\n",
            "|1-19-2019| 9.62|1.22|  55| 180| 170|19.9|28.0|\n",
            "|1-20-2019|20.36| 0.0|  42| 310| 310|30.0|42.9|\n",
            "+---------+-----+----+----+----+----+----+----+\n",
            "only showing top 20 rows\n",
            "\n"
          ]
        }
      ]
    },
    {
      "cell_type": "code",
      "execution_count": 16,
      "id": "7dc46af8",
      "metadata": {
        "id": "7dc46af8",
        "colab": {
          "base_uri": "https://localhost:8080/"
        },
        "outputId": "447acab7-bf04-48c7-b074-c59f57816911"
      },
      "outputs": [
        {
          "output_type": "stream",
          "name": "stdout",
          "text": [
            "+--------+-----+------------+-----------+-----------------+---------------+--------------+--------+-------------+--------+-------------+---------+---------+--------+--------------+-----+----+----+----+----+----+----+\n",
            "|    date|month|day_of_month|day_of_week|origin_airport_id|dest_airport_id|dest_city_name|dep_time|dep_delay_new|arr_time|arr_delay_new|dep_del15|cancelled|distance|distance_group| awnd|prcp|tavg|wdf2|wdf5|wsf2|wsf5|\n",
            "+--------+-----+------------+-----------+-----------------+---------------+--------------+--------+-------------+--------+-------------+---------+---------+--------+--------------+-----+----+----+----+----+----+----+\n",
            "|1-6-2019|    1|           6|          7|            10397|          11150|   Columbus GA|    1643|            0|    1720|            0|        0|        0|      83|             1| 8.72| 0.0|  44| 320| 310|25.9|36.9|\n",
            "|1-6-2019|    1|           6|          7|            10397|          11150|   Columbus GA|    1643|            0|    1720|            0|        0|        0|      83|             1|  4.7| 0.0|  60| 330| 290|10.1|17.0|\n",
            "|1-6-2019|    1|           6|          7|            10397|          11150|   Columbus GA|    1643|            0|    1720|            0|        0|        0|      83|             1| 8.28| 0.0|null| 160| 170|19.9|28.0|\n",
            "|1-6-2019|    1|           6|          7|            10397|          11150|   Columbus GA|    1643|            0|    1720|            0|        0|        0|      83|             1|12.75| 0.4|  45| 210| 190|44.1|59.9|\n",
            "|1-6-2019|    1|           6|          7|            10397|          11150|   Columbus GA|    1643|            0|    1720|            0|        0|        0|      83|             1| 3.58|0.02|null| 220| 230|10.1|14.1|\n",
            "|1-6-2019|    1|           6|          7|            10397|          11150|   Columbus GA|    1643|            0|    1720|            0|        0|        0|      83|             1|16.55|1.64|  51| 200| 200|32.0|44.1|\n",
            "|1-6-2019|    1|           6|          7|            10397|          11150|   Columbus GA|    1643|            0|    1720|            0|        0|        0|      83|             1|10.07|0.25|  45| 210| 220|25.9|32.0|\n",
            "|1-6-2019|    1|           6|          7|            10397|          11150|   Columbus GA|    1643|            0|    1720|            0|        0|        0|      83|             1| 6.26| 0.0|  74| 220| 210|15.0|17.0|\n",
            "|1-6-2019|    1|           6|          7|            10397|          11150|   Columbus GA|    1643|            0|    1720|            0|        0|        0|      83|             1|11.63| 0.0|  38| 110| 120|21.9|29.1|\n",
            "|1-6-2019|    1|           6|          7|            10397|          11150|   Columbus GA|    1643|            0|    1720|            0|        0|        0|      83|             1|14.32| 0.0|  40| 310| 310|30.0|40.9|\n",
            "|1-6-2019|    1|           6|          7|            10397|          11150|   Columbus GA|    1643|            0|    1720|            0|        0|        0|      83|             1|12.75|0.79|null| 140| 140|30.0|36.9|\n",
            "|1-6-2019|    1|           6|          7|            10397|          11150|   Columbus GA|    1643|            0|    1720|            0|        0|        0|      83|             1| 5.14|0.75|  57| 130| 140|21.0|23.9|\n",
            "|1-6-2019|    1|           6|          7|            10397|          11150|   Columbus GA|    1643|            0|    1720|            0|        0|        0|      83|             1| 9.17| 0.0|  55| 140| 190|19.9|27.1|\n",
            "|1-6-2019|    1|           6|          7|            10397|          11150|   Columbus GA|    1643|            0|    1720|            0|        0|        0|      83|             1| 6.71|0.22|  32| 160| 160|17.0|23.0|\n",
            "|1-6-2019|    1|           6|          7|            10397|          11150|   Columbus GA|    1643|            0|    1720|            0|        0|        0|      83|             1|19.46|1.65|null| 150| 140|40.9|53.0|\n",
            "|1-6-2019|    1|           6|          7|            10397|          11150|   Columbus GA|    1643|            0|    1720|            0|        0|        0|      83|             1| 2.68| 0.0|  52| 290| 320|12.1|19.9|\n",
            "|1-6-2019|    1|           6|          7|            10397|          11150|   Columbus GA|    1643|            0|    1720|            0|        0|        0|      83|             1| 7.61| 0.0|null| 230| 230|15.0|23.0|\n",
            "|1-6-2019|    1|           6|          7|            10397|          11150|   Columbus GA|    1643|            0|    1720|            0|        0|        0|      83|             1|  3.8|0.48|  54| 130| 130|10.1|12.1|\n",
            "|1-6-2019|    1|           6|          7|            10397|          11150|   Columbus GA|    1643|            0|    1720|            0|        0|        0|      83|             1|13.87| 0.0|  45| 330| 320|30.0|38.0|\n",
            "|1-6-2019|    1|           6|          7|            10397|          11150|   Columbus GA|    1643|            0|    1720|            0|        0|        0|      83|             1| 5.14| 0.0|  58|  20| 360|12.1|14.1|\n",
            "+--------+-----+------------+-----------+-----------------+---------------+--------------+--------+-------------+--------+-------------+---------+---------+--------+--------------+-----+----+----+----+----+----+----+\n",
            "only showing top 20 rows\n",
            "\n"
          ]
        }
      ],
      "source": [
        "# Join the data into one table \n",
        "final_df = final_ontimereporting_df.join(final_weather_df, on = \"date\", how = \"inner\")\n",
        "final_df.show()"
      ]
    },
    {
      "cell_type": "code",
      "source": [
        "# Store environmental variable\n",
        "from getpass import getpass\n",
        "password = getpass('Enter database password')\n",
        "# Configure settings for RDS\n",
        "mode = \"append\"\n",
        "jdbc_url=\"jdbc:postgresql://dataviz.ccozswrrwgoz.us-east-2.rds.amazonaws.com:5432/dataviz\"\n",
        "config = {\"user\":\"postgres\",\n",
        "          \"password\": password,\n",
        "          \"driver\":\"org.postgresql.Driver\"}"
      ],
      "metadata": {
        "colab": {
          "base_uri": "https://localhost:8080/"
        },
        "id": "6_J0FWoba4le",
        "outputId": "c53adedb-455b-4d9a-f566-9df795e84edc"
      },
      "id": "6_J0FWoba4le",
      "execution_count": 18,
      "outputs": [
        {
          "name": "stdout",
          "output_type": "stream",
          "text": [
            "Enter database password··········\n"
          ]
        }
      ]
    },
    {
      "cell_type": "code",
      "source": [
        " # Write DataFrame to active_user table in RDS\n",
        "final_df.write.jdbc(url=jdbc_url, table='final_df', mode=mode, properties=config)"
      ],
      "metadata": {
        "colab": {
          "base_uri": "https://localhost:8080/",
          "height": 1000
        },
        "id": "OG4wtrCXbFPZ",
        "outputId": "1d6be261-4adb-4910-fea0-ab39d3be71e7"
      },
      "id": "OG4wtrCXbFPZ",
      "execution_count": 19,
      "outputs": [
        {
          "output_type": "error",
          "ename": "Py4JJavaError",
          "evalue": "ignored",
          "traceback": [
            "\u001b[0;31m---------------------------------------------------------------------------\u001b[0m",
            "\u001b[0;31mPy4JJavaError\u001b[0m                             Traceback (most recent call last)",
            "\u001b[0;32m<ipython-input-19-cac996419707>\u001b[0m in \u001b[0;36m<module>\u001b[0;34m()\u001b[0m\n\u001b[1;32m      1\u001b[0m \u001b[0;31m# Write DataFrame to active_user table in RDS\u001b[0m\u001b[0;34m\u001b[0m\u001b[0;34m\u001b[0m\u001b[0;34m\u001b[0m\u001b[0m\n\u001b[0;32m----> 2\u001b[0;31m \u001b[0mfinal_df\u001b[0m\u001b[0;34m.\u001b[0m\u001b[0mwrite\u001b[0m\u001b[0;34m.\u001b[0m\u001b[0mjdbc\u001b[0m\u001b[0;34m(\u001b[0m\u001b[0murl\u001b[0m\u001b[0;34m=\u001b[0m\u001b[0mjdbc_url\u001b[0m\u001b[0;34m,\u001b[0m \u001b[0mtable\u001b[0m\u001b[0;34m=\u001b[0m\u001b[0;34m'final_df'\u001b[0m\u001b[0;34m,\u001b[0m \u001b[0mmode\u001b[0m\u001b[0;34m=\u001b[0m\u001b[0mmode\u001b[0m\u001b[0;34m,\u001b[0m \u001b[0mproperties\u001b[0m\u001b[0;34m=\u001b[0m\u001b[0mconfig\u001b[0m\u001b[0;34m)\u001b[0m\u001b[0;34m\u001b[0m\u001b[0;34m\u001b[0m\u001b[0m\n\u001b[0m",
            "\u001b[0;32m/content/spark-3.3.0-bin-hadoop2/python/pyspark/sql/readwriter.py\u001b[0m in \u001b[0;36mjdbc\u001b[0;34m(self, url, table, mode, properties)\u001b[0m\n\u001b[1;32m   1338\u001b[0m         \u001b[0;32mfor\u001b[0m \u001b[0mk\u001b[0m \u001b[0;32min\u001b[0m \u001b[0mproperties\u001b[0m\u001b[0;34m:\u001b[0m\u001b[0;34m\u001b[0m\u001b[0;34m\u001b[0m\u001b[0m\n\u001b[1;32m   1339\u001b[0m             \u001b[0mjprop\u001b[0m\u001b[0;34m.\u001b[0m\u001b[0msetProperty\u001b[0m\u001b[0;34m(\u001b[0m\u001b[0mk\u001b[0m\u001b[0;34m,\u001b[0m \u001b[0mproperties\u001b[0m\u001b[0;34m[\u001b[0m\u001b[0mk\u001b[0m\u001b[0;34m]\u001b[0m\u001b[0;34m)\u001b[0m\u001b[0;34m\u001b[0m\u001b[0;34m\u001b[0m\u001b[0m\n\u001b[0;32m-> 1340\u001b[0;31m         \u001b[0mself\u001b[0m\u001b[0;34m.\u001b[0m\u001b[0mmode\u001b[0m\u001b[0;34m(\u001b[0m\u001b[0mmode\u001b[0m\u001b[0;34m)\u001b[0m\u001b[0;34m.\u001b[0m\u001b[0m_jwrite\u001b[0m\u001b[0;34m.\u001b[0m\u001b[0mjdbc\u001b[0m\u001b[0;34m(\u001b[0m\u001b[0murl\u001b[0m\u001b[0;34m,\u001b[0m \u001b[0mtable\u001b[0m\u001b[0;34m,\u001b[0m \u001b[0mjprop\u001b[0m\u001b[0;34m)\u001b[0m\u001b[0;34m\u001b[0m\u001b[0;34m\u001b[0m\u001b[0m\n\u001b[0m\u001b[1;32m   1341\u001b[0m \u001b[0;34m\u001b[0m\u001b[0m\n\u001b[1;32m   1342\u001b[0m \u001b[0;34m\u001b[0m\u001b[0m\n",
            "\u001b[0;32m/content/spark-3.3.0-bin-hadoop2/python/lib/py4j-0.10.9.5-src.zip/py4j/java_gateway.py\u001b[0m in \u001b[0;36m__call__\u001b[0;34m(self, *args)\u001b[0m\n\u001b[1;32m   1320\u001b[0m         \u001b[0manswer\u001b[0m \u001b[0;34m=\u001b[0m \u001b[0mself\u001b[0m\u001b[0;34m.\u001b[0m\u001b[0mgateway_client\u001b[0m\u001b[0;34m.\u001b[0m\u001b[0msend_command\u001b[0m\u001b[0;34m(\u001b[0m\u001b[0mcommand\u001b[0m\u001b[0;34m)\u001b[0m\u001b[0;34m\u001b[0m\u001b[0;34m\u001b[0m\u001b[0m\n\u001b[1;32m   1321\u001b[0m         return_value = get_return_value(\n\u001b[0;32m-> 1322\u001b[0;31m             answer, self.gateway_client, self.target_id, self.name)\n\u001b[0m\u001b[1;32m   1323\u001b[0m \u001b[0;34m\u001b[0m\u001b[0m\n\u001b[1;32m   1324\u001b[0m         \u001b[0;32mfor\u001b[0m \u001b[0mtemp_arg\u001b[0m \u001b[0;32min\u001b[0m \u001b[0mtemp_args\u001b[0m\u001b[0;34m:\u001b[0m\u001b[0;34m\u001b[0m\u001b[0;34m\u001b[0m\u001b[0m\n",
            "\u001b[0;32m/content/spark-3.3.0-bin-hadoop2/python/pyspark/sql/utils.py\u001b[0m in \u001b[0;36mdeco\u001b[0;34m(*a, **kw)\u001b[0m\n\u001b[1;32m    188\u001b[0m     \u001b[0;32mdef\u001b[0m \u001b[0mdeco\u001b[0m\u001b[0;34m(\u001b[0m\u001b[0;34m*\u001b[0m\u001b[0ma\u001b[0m\u001b[0;34m:\u001b[0m \u001b[0mAny\u001b[0m\u001b[0;34m,\u001b[0m \u001b[0;34m**\u001b[0m\u001b[0mkw\u001b[0m\u001b[0;34m:\u001b[0m \u001b[0mAny\u001b[0m\u001b[0;34m)\u001b[0m \u001b[0;34m->\u001b[0m \u001b[0mAny\u001b[0m\u001b[0;34m:\u001b[0m\u001b[0;34m\u001b[0m\u001b[0;34m\u001b[0m\u001b[0m\n\u001b[1;32m    189\u001b[0m         \u001b[0;32mtry\u001b[0m\u001b[0;34m:\u001b[0m\u001b[0;34m\u001b[0m\u001b[0;34m\u001b[0m\u001b[0m\n\u001b[0;32m--> 190\u001b[0;31m             \u001b[0;32mreturn\u001b[0m \u001b[0mf\u001b[0m\u001b[0;34m(\u001b[0m\u001b[0;34m*\u001b[0m\u001b[0ma\u001b[0m\u001b[0;34m,\u001b[0m \u001b[0;34m**\u001b[0m\u001b[0mkw\u001b[0m\u001b[0;34m)\u001b[0m\u001b[0;34m\u001b[0m\u001b[0;34m\u001b[0m\u001b[0m\n\u001b[0m\u001b[1;32m    191\u001b[0m         \u001b[0;32mexcept\u001b[0m \u001b[0mPy4JJavaError\u001b[0m \u001b[0;32mas\u001b[0m \u001b[0me\u001b[0m\u001b[0;34m:\u001b[0m\u001b[0;34m\u001b[0m\u001b[0;34m\u001b[0m\u001b[0m\n\u001b[1;32m    192\u001b[0m             \u001b[0mconverted\u001b[0m \u001b[0;34m=\u001b[0m \u001b[0mconvert_exception\u001b[0m\u001b[0;34m(\u001b[0m\u001b[0me\u001b[0m\u001b[0;34m.\u001b[0m\u001b[0mjava_exception\u001b[0m\u001b[0;34m)\u001b[0m\u001b[0;34m\u001b[0m\u001b[0;34m\u001b[0m\u001b[0m\n",
            "\u001b[0;32m/content/spark-3.3.0-bin-hadoop2/python/lib/py4j-0.10.9.5-src.zip/py4j/protocol.py\u001b[0m in \u001b[0;36mget_return_value\u001b[0;34m(answer, gateway_client, target_id, name)\u001b[0m\n\u001b[1;32m    326\u001b[0m                 raise Py4JJavaError(\n\u001b[1;32m    327\u001b[0m                     \u001b[0;34m\"An error occurred while calling {0}{1}{2}.\\n\"\u001b[0m\u001b[0;34m.\u001b[0m\u001b[0;34m\u001b[0m\u001b[0;34m\u001b[0m\u001b[0m\n\u001b[0;32m--> 328\u001b[0;31m                     format(target_id, \".\", name), value)\n\u001b[0m\u001b[1;32m    329\u001b[0m             \u001b[0;32melse\u001b[0m\u001b[0;34m:\u001b[0m\u001b[0;34m\u001b[0m\u001b[0;34m\u001b[0m\u001b[0m\n\u001b[1;32m    330\u001b[0m                 raise Py4JError(\n",
            "\u001b[0;31mPy4JJavaError\u001b[0m: An error occurred while calling o105.jdbc.\n: org.postgresql.util.PSQLException: FATAL: database \"dataviz\" does not exist\n\tat org.postgresql.core.v3.QueryExecutorImpl.receiveErrorResponse(QueryExecutorImpl.java:2553)\n\tat org.postgresql.core.v3.QueryExecutorImpl.readStartupMessages(QueryExecutorImpl.java:2665)\n\tat org.postgresql.core.v3.QueryExecutorImpl.<init>(QueryExecutorImpl.java:147)\n\tat org.postgresql.core.v3.ConnectionFactoryImpl.openConnectionImpl(ConnectionFactoryImpl.java:273)\n\tat org.postgresql.core.ConnectionFactory.openConnection(ConnectionFactory.java:51)\n\tat org.postgresql.jdbc.PgConnection.<init>(PgConnection.java:225)\n\tat org.postgresql.Driver.makeConnection(Driver.java:465)\n\tat org.postgresql.Driver.connect(Driver.java:264)\n\tat org.apache.spark.sql.execution.datasources.jdbc.connection.BasicConnectionProvider.getConnection(BasicConnectionProvider.scala:49)\n\tat org.apache.spark.sql.execution.datasources.jdbc.connection.ConnectionProviderBase.create(ConnectionProvider.scala:102)\n\tat org.apache.spark.sql.jdbc.JdbcDialect.$anonfun$createConnectionFactory$1(JdbcDialects.scala:122)\n\tat org.apache.spark.sql.jdbc.JdbcDialect.$anonfun$createConnectionFactory$1$adapted(JdbcDialects.scala:118)\n\tat org.apache.spark.sql.execution.datasources.jdbc.JdbcRelationProvider.createRelation(JdbcRelationProvider.scala:50)\n\tat org.apache.spark.sql.execution.datasources.SaveIntoDataSourceCommand.run(SaveIntoDataSourceCommand.scala:45)\n\tat org.apache.spark.sql.execution.command.ExecutedCommandExec.sideEffectResult$lzycompute(commands.scala:75)\n\tat org.apache.spark.sql.execution.command.ExecutedCommandExec.sideEffectResult(commands.scala:73)\n\tat org.apache.spark.sql.execution.command.ExecutedCommandExec.executeCollect(commands.scala:84)\n\tat org.apache.spark.sql.execution.QueryExecution$$anonfun$eagerlyExecuteCommands$1.$anonfun$applyOrElse$1(QueryExecution.scala:98)\n\tat org.apache.spark.sql.execution.SQLExecution$.$anonfun$withNewExecutionId$6(SQLExecution.scala:109)\n\tat org.apache.spark.sql.execution.SQLExecution$.withSQLConfPropagated(SQLExecution.scala:169)\n\tat org.apache.spark.sql.execution.SQLExecution$.$anonfun$withNewExecutionId$1(SQLExecution.scala:95)\n\tat org.apache.spark.sql.SparkSession.withActive(SparkSession.scala:779)\n\tat org.apache.spark.sql.execution.SQLExecution$.withNewExecutionId(SQLExecution.scala:64)\n\tat org.apache.spark.sql.execution.QueryExecution$$anonfun$eagerlyExecuteCommands$1.applyOrElse(QueryExecution.scala:98)\n\tat org.apache.spark.sql.execution.QueryExecution$$anonfun$eagerlyExecuteCommands$1.applyOrElse(QueryExecution.scala:94)\n\tat org.apache.spark.sql.catalyst.trees.TreeNode.$anonfun$transformDownWithPruning$1(TreeNode.scala:584)\n\tat org.apache.spark.sql.catalyst.trees.CurrentOrigin$.withOrigin(TreeNode.scala:176)\n\tat org.apache.spark.sql.catalyst.trees.TreeNode.transformDownWithPruning(TreeNode.scala:584)\n\tat org.apache.spark.sql.catalyst.plans.logical.LogicalPlan.org$apache$spark$sql$catalyst$plans$logical$AnalysisHelper$$super$transformDownWithPruning(LogicalPlan.scala:30)\n\tat org.apache.spark.sql.catalyst.plans.logical.AnalysisHelper.transformDownWithPruning(AnalysisHelper.scala:267)\n\tat org.apache.spark.sql.catalyst.plans.logical.AnalysisHelper.transformDownWithPruning$(AnalysisHelper.scala:263)\n\tat org.apache.spark.sql.catalyst.plans.logical.LogicalPlan.transformDownWithPruning(LogicalPlan.scala:30)\n\tat org.apache.spark.sql.catalyst.plans.logical.LogicalPlan.transformDownWithPruning(LogicalPlan.scala:30)\n\tat org.apache.spark.sql.catalyst.trees.TreeNode.transformDown(TreeNode.scala:560)\n\tat org.apache.spark.sql.execution.QueryExecution.eagerlyExecuteCommands(QueryExecution.scala:94)\n\tat org.apache.spark.sql.execution.QueryExecution.commandExecuted$lzycompute(QueryExecution.scala:81)\n\tat org.apache.spark.sql.execution.QueryExecution.commandExecuted(QueryExecution.scala:79)\n\tat org.apache.spark.sql.execution.QueryExecution.assertCommandExecuted(QueryExecution.scala:116)\n\tat org.apache.spark.sql.DataFrameWriter.runCommand(DataFrameWriter.scala:860)\n\tat org.apache.spark.sql.DataFrameWriter.saveToV1Source(DataFrameWriter.scala:390)\n\tat org.apache.spark.sql.DataFrameWriter.saveInternal(DataFrameWriter.scala:363)\n\tat org.apache.spark.sql.DataFrameWriter.save(DataFrameWriter.scala:247)\n\tat org.apache.spark.sql.DataFrameWriter.jdbc(DataFrameWriter.scala:757)\n\tat java.base/jdk.internal.reflect.NativeMethodAccessorImpl.invoke0(Native Method)\n\tat java.base/jdk.internal.reflect.NativeMethodAccessorImpl.invoke(NativeMethodAccessorImpl.java:62)\n\tat java.base/jdk.internal.reflect.DelegatingMethodAccessorImpl.invoke(DelegatingMethodAccessorImpl.java:43)\n\tat java.base/java.lang.reflect.Method.invoke(Method.java:566)\n\tat py4j.reflection.MethodInvoker.invoke(MethodInvoker.java:244)\n\tat py4j.reflection.ReflectionEngine.invoke(ReflectionEngine.java:357)\n\tat py4j.Gateway.invoke(Gateway.java:282)\n\tat py4j.commands.AbstractCommand.invokeMethod(AbstractCommand.java:132)\n\tat py4j.commands.CallCommand.execute(CallCommand.java:79)\n\tat py4j.ClientServerConnection.waitForCommands(ClientServerConnection.java:182)\n\tat py4j.ClientServerConnection.run(ClientServerConnection.java:106)\n\tat java.base/java.lang.Thread.run(Thread.java:829)\n"
          ]
        }
      ]
    }
  ],
  "metadata": {
    "kernelspec": {
      "display_name": "Python 3 (ipykernel)",
      "language": "python",
      "name": "python3"
    },
    "language_info": {
      "codemirror_mode": {
        "name": "ipython",
        "version": 3
      },
      "file_extension": ".py",
      "mimetype": "text/x-python",
      "name": "python",
      "nbconvert_exporter": "python",
      "pygments_lexer": "ipython3",
      "version": "3.7.11"
    },
    "colab": {
      "name": "Database.ipynb",
      "provenance": []
    }
  },
  "nbformat": 4,
  "nbformat_minor": 5
}