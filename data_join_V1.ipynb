{
 "cells": [
  {
   "cell_type": "code",
   "execution_count": 1,
   "id": "d4e11d6f",
   "metadata": {},
   "outputs": [],
   "source": [
    "import pandas as pd\n",
    "\n",
    "airport_df = pd.read_csv('airports_list.csv')"
   ]
  },
  {
   "cell_type": "code",
   "execution_count": 2,
   "id": "2a2110e0",
   "metadata": {},
   "outputs": [
    {
     "name": "stdout",
     "output_type": "stream",
     "text": [
      "    ORIGIN_AIRPORT_ID               DISPLAY_AIRPORT_NAME   ORIGIN_CITY_NAME  \\\n",
      "0               12992                        Adams Field    Little Rock, AR   \n",
      "1               10257               Albany International         Albany, NY   \n",
      "2               10140  Albuquerque International Sunport    Albuquerque, NM   \n",
      "3               10299            Anchorage International      Anchorage, AK   \n",
      "4               10397                  Atlanta Municipal        Atlanta, GA   \n",
      "..                ...                                ...                ...   \n",
      "92              15370                Tulsa International          Tulsa, OK   \n",
      "93              12264    Washington Dulles International     Washington, DC   \n",
      "94              13851                  Will Rogers World  Oklahoma City, OK   \n",
      "95              12191                    William P Hobby        Houston, TX   \n",
      "96              10713                 Boise Air Terminal          Boise, ID   \n",
      "\n",
      "                                                 NAME  \n",
      "0                    NORTH LITTLE ROCK AIRPORT, AR US  \n",
      "1                 ALBANY INTERNATIONAL AIRPORT, NY US  \n",
      "2            ALBUQUERQUE INTERNATIONAL AIRPORT, NM US  \n",
      "3   ANCHORAGE TED STEVENS INTERNATIONAL AIRPORT, A...  \n",
      "4   ATLANTA HARTSFIELD JACKSON INTERNATIONAL AIRPO...  \n",
      "..                                                ...  \n",
      "92     OKLAHOMA CITY WILL ROGERS WORLD AIRPORT, OK US  \n",
      "93     WASHINGTON DULLES INTERNATIONAL AIRPORT, VA US  \n",
      "94     OKLAHOMA CITY WILL ROGERS WORLD AIRPORT, OK US  \n",
      "95             HOUSTON WILLIAM P HOBBY AIRPORT, TX US  \n",
      "96                          BOISE AIR TERMINAL, ID US  \n",
      "\n",
      "[97 rows x 4 columns]\n"
     ]
    }
   ],
   "source": [
    "print(airport_df) "
   ]
  },
  {
   "cell_type": "code",
   "execution_count": 3,
   "id": "18e24d22",
   "metadata": {},
   "outputs": [
    {
     "name": "stdout",
     "output_type": "stream",
     "text": [
      "        MONTH  DAY_OF_MONTH  DAY_OF_WEEK  ORIGIN_AIRPORT_ID ORIGIN_CITY_NAME  \\\n",
      "0           1             6            7              10397      Atlanta, GA   \n",
      "1           1             7            1              10397      Atlanta, GA   \n",
      "2           1             8            2              10397      Atlanta, GA   \n",
      "3           1             9            3              10397      Atlanta, GA   \n",
      "4           1            10            4              10397      Atlanta, GA   \n",
      "...       ...           ...          ...                ...              ...   \n",
      "583980      1            30            3              14683  San Antonio, TX   \n",
      "583981      1            30            3              14843     San Juan, PR   \n",
      "583982      1            30            3              12264   Washington, DC   \n",
      "583983      1            30            3              12266      Houston, TX   \n",
      "583984      1            30            3              12266      Houston, TX   \n",
      "\n",
      "        DEST_AIRPORT_ID     DEST_CITY_NAME  DEP_TIME  DEP_DELAY_NEW  ARR_TIME  \\\n",
      "0                 11150       Columbus, GA    1643.0            0.0    1720.0   \n",
      "1                 11150       Columbus, GA    1640.0            0.0    1712.0   \n",
      "2                 11150       Columbus, GA    1640.0            0.0    1719.0   \n",
      "3                 11150       Columbus, GA    1640.0            0.0    1717.0   \n",
      "4                 11150       Columbus, GA    1640.0            0.0    1721.0   \n",
      "...                 ...                ...       ...            ...       ...   \n",
      "583980            12266        Houston, TX    1420.0            0.0    1507.0   \n",
      "583981            12264     Washington, DC    1407.0            0.0    1707.0   \n",
      "583982            14843       San Juan, PR     819.0            0.0    1312.0   \n",
      "583983            14771  San Francisco, CA    1858.0           43.0    2049.0   \n",
      "583984            14683    San Antonio, TX    1158.0            0.0    1253.0   \n",
      "\n",
      "        ARR_DELAY_NEW  CANCELLED  DISTANCE  DISTANCE_GROUP  \n",
      "0                 0.0          0        83               1  \n",
      "1                 0.0          0        83               1  \n",
      "2                 0.0          0        83               1  \n",
      "3                 0.0          0        83               1  \n",
      "4                 0.0          0        83               1  \n",
      "...               ...        ...       ...             ...  \n",
      "583980            0.0          0       191               1  \n",
      "583981            3.0          0      1571               7  \n",
      "583982            2.0          0      1571               7  \n",
      "583983           22.0          0      1635               7  \n",
      "583984            0.0          0       191               1  \n",
      "\n",
      "[583985 rows x 14 columns]\n"
     ]
    }
   ],
   "source": [
    "ontime_01_df = pd.read_csv('Ontime_Reporting_01.csv')\n",
    "print(ontime_01_df)"
   ]
  },
  {
   "cell_type": "code",
   "execution_count": 4,
   "id": "22500ad5",
   "metadata": {},
   "outputs": [
    {
     "name": "stdout",
     "output_type": "stream",
     "text": [
      "        MONTH  DAY_OF_MONTH  DAY_OF_WEEK  ORIGIN_AIRPORT_ID ORIGIN_CITY_NAME  \\\n",
      "0           2             1            5              12478     New York, NY   \n",
      "1           2             2            6              12478     New York, NY   \n",
      "2           2             3            7              12478     New York, NY   \n",
      "3           2             4            1              12478     New York, NY   \n",
      "4           2             5            2              12478     New York, NY   \n",
      "...       ...           ...          ...                ...              ...   \n",
      "533170      2            21            4              13495  New Orleans, LA   \n",
      "533171      2            21            4              12264   Washington, DC   \n",
      "533172      2            21            4              12266      Houston, TX   \n",
      "533173      2            21            4              11433      Detroit, MI   \n",
      "533174      2            21            4              13930      Chicago, IL   \n",
      "\n",
      "        DEST_AIRPORT_ID     DEST_CITY_NAME  DEP_TIME  DEP_DELAY_NEW  ARR_TIME  \\\n",
      "0                 12892    Los Angeles, CA     759.0            0.0    1058.0   \n",
      "1                 12892    Los Angeles, CA     849.0           49.0    1156.0   \n",
      "2                 12892    Los Angeles, CA     756.0            0.0    1108.0   \n",
      "3                 12892    Los Angeles, CA     756.0            0.0    1126.0   \n",
      "4                 12892    Los Angeles, CA     755.0            0.0    1112.0   \n",
      "...                 ...                ...       ...            ...       ...   \n",
      "533170            12266        Houston, TX    1704.0            0.0    1902.0   \n",
      "533171            14771  San Francisco, CA    1837.0            0.0    2148.0   \n",
      "533172            11503          Eagle, CO    1152.0            0.0    1341.0   \n",
      "533173            13930        Chicago, IL     844.0            0.0     915.0   \n",
      "533174            14771  San Francisco, CA     957.0            0.0    1241.0   \n",
      "\n",
      "        ARR_DELAY_NEW  CANCELLED  DISTANCE  DISTANCE_GROUP  \n",
      "0                 0.0          0      2475              10  \n",
      "1                23.0          0      2475              10  \n",
      "2                 0.0          0      2475              10  \n",
      "3                 0.0          0      2475              10  \n",
      "4                 0.0          0      2475              10  \n",
      "...               ...        ...       ...             ...  \n",
      "533170           19.0          0       305               2  \n",
      "533171            0.0          0      2419              10  \n",
      "533172            0.0          0       934               4  \n",
      "533173            0.0          0       235               1  \n",
      "533174            0.0          0      1846               8  \n",
      "\n",
      "[533175 rows x 14 columns]\n"
     ]
    }
   ],
   "source": [
    "ontime_02_df = pd.read_csv('Ontime_Reporting_02.csv')\n",
    "print(ontime_02_df)"
   ]
  },
  {
   "cell_type": "code",
   "execution_count": 5,
   "id": "aae92082",
   "metadata": {},
   "outputs": [
    {
     "name": "stdout",
     "output_type": "stream",
     "text": [
      "        MONTH  DAY_OF_MONTH  DAY_OF_WEEK  ORIGIN_AIRPORT_ID ORIGIN_CITY_NAME  \\\n",
      "0           3             2            6              14635   Fort Myers, FL   \n",
      "1           3             2            6              14635   Fort Myers, FL   \n",
      "2           3             2            6              14635   Fort Myers, FL   \n",
      "3           3             2            6              14635   Fort Myers, FL   \n",
      "4           3             2            6              14635   Fort Myers, FL   \n",
      "...       ...           ...          ...                ...              ...   \n",
      "632069      3            25            1              13303        Miami, FL   \n",
      "632070      3            26            2              13303        Miami, FL   \n",
      "632071      3            27            3              13303        Miami, FL   \n",
      "632072      3            28            4              13303        Miami, FL   \n",
      "632073      3            29            5              13303        Miami, FL   \n",
      "\n",
      "        DEST_AIRPORT_ID    DEST_CITY_NAME  DEP_TIME  DEP_DELAY_NEW  ARR_TIME  \\\n",
      "0                 11042     Cleveland, OH    1307.0            0.0    1549.0   \n",
      "1                 11066      Columbus, OH    1926.0            1.0    2200.0   \n",
      "2                 11066      Columbus, OH     850.0            0.0    1119.0   \n",
      "3                 11066      Columbus, OH    1151.0           11.0    1424.0   \n",
      "4                 11259        Dallas, TX    1405.0            0.0    1548.0   \n",
      "...                 ...               ...       ...            ...       ...   \n",
      "632069            11986  Grand Rapids, MI    2012.0            0.0    2328.0   \n",
      "632070            11986  Grand Rapids, MI    2011.0            0.0    2327.0   \n",
      "632071            11986  Grand Rapids, MI    2005.0            0.0    2326.0   \n",
      "632072            11986  Grand Rapids, MI    2011.0            0.0    2351.0   \n",
      "632073            11986  Grand Rapids, MI    2012.0            0.0    2321.0   \n",
      "\n",
      "        ARR_DELAY_NEW  CANCELLED  DISTANCE  DISTANCE_GROUP  \n",
      "0                 0.0          0      1025               5  \n",
      "1                 5.0          0       930               4  \n",
      "2                 4.0          0       930               4  \n",
      "3                14.0          0       930               4  \n",
      "4                 0.0          0      1005               5  \n",
      "...               ...        ...       ...             ...  \n",
      "632069            0.0          0      1214               5  \n",
      "632070            0.0          0      1214               5  \n",
      "632071            0.0          0      1214               5  \n",
      "632072           13.0          0      1214               5  \n",
      "632073            0.0          0      1214               5  \n",
      "\n",
      "[632074 rows x 14 columns]\n"
     ]
    }
   ],
   "source": [
    "ontime_03_df = pd.read_csv('Ontime_Reporting_03.csv')\n",
    "print(ontime_03_df)"
   ]
  },
  {
   "cell_type": "code",
   "execution_count": 6,
   "id": "009c8ecc",
   "metadata": {},
   "outputs": [
    {
     "name": "stdout",
     "output_type": "stream",
     "text": [
      "                                                    NAME        DATE   AWND  \\\n",
      "0      ATLANTA HARTSFIELD JACKSON INTERNATIONAL AIRPO...    1/1/2019   4.70   \n",
      "1      ATLANTA HARTSFIELD JACKSON INTERNATIONAL AIRPO...    1/2/2019   4.92   \n",
      "2      ATLANTA HARTSFIELD JACKSON INTERNATIONAL AIRPO...    1/3/2019   5.37   \n",
      "3      ATLANTA HARTSFIELD JACKSON INTERNATIONAL AIRPO...    1/4/2019  12.08   \n",
      "4      ATLANTA HARTSFIELD JACKSON INTERNATIONAL AIRPO...    1/5/2019  13.42   \n",
      "...                                                  ...         ...    ...   \n",
      "38670                TALLAHASSEE REGIONAL AIRPORT, FL US  2019-12-27   6.04   \n",
      "38671                TALLAHASSEE REGIONAL AIRPORT, FL US  2019-12-28   5.37   \n",
      "38672                TALLAHASSEE REGIONAL AIRPORT, FL US  2019-12-29   7.61   \n",
      "38673                TALLAHASSEE REGIONAL AIRPORT, FL US  2019-12-30   5.82   \n",
      "38674                TALLAHASSEE REGIONAL AIRPORT, FL US  2019-12-31   3.58   \n",
      "\n",
      "       PRCP  SNOW  \n",
      "0      0.14   0.0  \n",
      "1      0.57   0.0  \n",
      "2      0.15   0.0  \n",
      "3      1.44   0.0  \n",
      "4      0.00   0.0  \n",
      "...     ...   ...  \n",
      "38670  0.00   NaN  \n",
      "38671  0.06   NaN  \n",
      "38672  0.10   NaN  \n",
      "38673  0.02   NaN  \n",
      "38674  0.00   NaN  \n",
      "\n",
      "[38675 rows x 5 columns]\n"
     ]
    }
   ],
   "source": [
    "airport_weather = pd.read_csv('Airport_Weather_2019.csv')\n",
    "print(airport_weather)"
   ]
  },
  {
   "cell_type": "code",
   "execution_count": 8,
   "id": "426c7781",
   "metadata": {},
   "outputs": [
    {
     "name": "stdout",
     "output_type": "stream",
     "text": [
      "        ORIGIN_AIRPORT_ID DISPLAY_AIRPORT_NAME ORIGIN_CITY_NAME_x  \\\n",
      "0                   12992          Adams Field    Little Rock, AR   \n",
      "1                   12992          Adams Field    Little Rock, AR   \n",
      "2                   12992          Adams Field    Little Rock, AR   \n",
      "3                   12992          Adams Field    Little Rock, AR   \n",
      "4                   12992          Adams Field    Little Rock, AR   \n",
      "...                   ...                  ...                ...   \n",
      "583980              11905                  NaN                NaN   \n",
      "583981              11905                  NaN                NaN   \n",
      "583982              11905                  NaN                NaN   \n",
      "583983              11905                  NaN                NaN   \n",
      "583984              11905                  NaN                NaN   \n",
      "\n",
      "                                    NAME  MONTH  DAY_OF_MONTH  DAY_OF_WEEK  \\\n",
      "0       NORTH LITTLE ROCK AIRPORT, AR US      1             1            2   \n",
      "1       NORTH LITTLE ROCK AIRPORT, AR US      1            13            7   \n",
      "2       NORTH LITTLE ROCK AIRPORT, AR US      1            13            7   \n",
      "3       NORTH LITTLE ROCK AIRPORT, AR US      1            13            7   \n",
      "4       NORTH LITTLE ROCK AIRPORT, AR US      1            13            7   \n",
      "...                                  ...    ...           ...          ...   \n",
      "583980                               NaN      1             1            2   \n",
      "583981                               NaN      1             2            3   \n",
      "583982                               NaN      1             3            4   \n",
      "583983                               NaN      1             4            5   \n",
      "583984                               NaN      1             5            6   \n",
      "\n",
      "       ORIGIN_CITY_NAME_y  DEST_AIRPORT_ID         DEST_CITY_NAME  DEP_TIME  \\\n",
      "0         Little Rock, AR            10397            Atlanta, GA    1523.0   \n",
      "1         Little Rock, AR            11259             Dallas, TX    1833.0   \n",
      "2         Little Rock, AR            11259             Dallas, TX    1225.0   \n",
      "3         Little Rock, AR            11259             Dallas, TX     647.0   \n",
      "4         Little Rock, AR            12889          Las Vegas, NV    1419.0   \n",
      "...                   ...              ...                    ...       ...   \n",
      "583980       Longview, TX            11298  Dallas/Fort Worth, TX    1029.0   \n",
      "583981       Longview, TX            11298  Dallas/Fort Worth, TX    1049.0   \n",
      "583982       Longview, TX            11298  Dallas/Fort Worth, TX    1128.0   \n",
      "583983       Longview, TX            11298  Dallas/Fort Worth, TX    1048.0   \n",
      "583984       Longview, TX            11298  Dallas/Fort Worth, TX    1034.0   \n",
      "\n",
      "        DEP_DELAY_NEW  ARR_TIME  ARR_DELAY_NEW  CANCELLED  DISTANCE  \\\n",
      "0                 0.0    1748.0            0.0          0       453   \n",
      "1                 0.0    1940.0            0.0          0       296   \n",
      "2                30.0    1331.0           26.0          0       296   \n",
      "3                 0.0     754.0            0.0          0       296   \n",
      "4                24.0    1544.0           14.0          0      1294   \n",
      "...               ...       ...            ...        ...       ...   \n",
      "583980            0.0    1119.0            0.0          0       140   \n",
      "583981           10.0    1154.0            5.0          0       140   \n",
      "583982           49.0    1235.0           46.0          0       140   \n",
      "583983            9.0    1155.0            6.0          0       140   \n",
      "583984            0.0    1149.0            0.0          0       140   \n",
      "\n",
      "        DISTANCE_GROUP  \n",
      "0                    2  \n",
      "1                    2  \n",
      "2                    2  \n",
      "3                    2  \n",
      "4                    6  \n",
      "...                ...  \n",
      "583980               1  \n",
      "583981               1  \n",
      "583982               1  \n",
      "583983               1  \n",
      "583984               1  \n",
      "\n",
      "[583985 rows x 17 columns]\n"
     ]
    }
   ],
   "source": [
    "df_temp_01=pd.merge(airport_df,ontime_01_df,on='ORIGIN_AIRPORT_ID',how='outer')\n",
    "print(df_temp_01)"
   ]
  },
  {
   "cell_type": "code",
   "execution_count": 9,
   "id": "5caaa705",
   "metadata": {},
   "outputs": [],
   "source": [
    "df_temp_01.to_csv('temp_01.csv', index=False)"
   ]
  },
  {
   "cell_type": "code",
   "execution_count": 10,
   "id": "ed840854",
   "metadata": {},
   "outputs": [
    {
     "name": "stdout",
     "output_type": "stream",
     "text": [
      "        ORIGIN_AIRPORT_ID DISPLAY_AIRPORT_NAME ORIGIN_CITY_NAME_x  \\\n",
      "0                   12992          Adams Field    Little Rock, AR   \n",
      "1                   12992          Adams Field    Little Rock, AR   \n",
      "2                   12992          Adams Field    Little Rock, AR   \n",
      "3                   12992          Adams Field    Little Rock, AR   \n",
      "4                   12992          Adams Field    Little Rock, AR   \n",
      "...                   ...                  ...                ...   \n",
      "533170              11867                  NaN                NaN   \n",
      "533171              11867                  NaN                NaN   \n",
      "533172              11867                  NaN                NaN   \n",
      "533173              11867                  NaN                NaN   \n",
      "533174              11867                  NaN                NaN   \n",
      "\n",
      "                                    NAME  MONTH  DAY_OF_MONTH  DAY_OF_WEEK  \\\n",
      "0       NORTH LITTLE ROCK AIRPORT, AR US      2            27            3   \n",
      "1       NORTH LITTLE ROCK AIRPORT, AR US      2            27            3   \n",
      "2       NORTH LITTLE ROCK AIRPORT, AR US      2            27            3   \n",
      "3       NORTH LITTLE ROCK AIRPORT, AR US      2            27            3   \n",
      "4       NORTH LITTLE ROCK AIRPORT, AR US      2            27            3   \n",
      "...                                  ...    ...           ...          ...   \n",
      "533170                               NaN      2            24            7   \n",
      "533171                               NaN      2            25            1   \n",
      "533172                               NaN      2            26            2   \n",
      "533173                               NaN      2            27            3   \n",
      "533174                               NaN      2            28            4   \n",
      "\n",
      "       ORIGIN_CITY_NAME_y  DEST_AIRPORT_ID         DEST_CITY_NAME  DEP_TIME  \\\n",
      "0         Little Rock, AR            11259             Dallas, TX    1249.0   \n",
      "1         Little Rock, AR            11259             Dallas, TX     623.0   \n",
      "2         Little Rock, AR            11259             Dallas, TX    1934.0   \n",
      "3         Little Rock, AR            12889          Las Vegas, NV    1141.0   \n",
      "4         Little Rock, AR            15016          St. Louis, MO    1642.0   \n",
      "...                   ...              ...                    ...       ...   \n",
      "533170    Garden City, KS            11298  Dallas/Fort Worth, TX       NaN   \n",
      "533171    Garden City, KS            11298  Dallas/Fort Worth, TX    1436.0   \n",
      "533172    Garden City, KS            11298  Dallas/Fort Worth, TX    1458.0   \n",
      "533173    Garden City, KS            11298  Dallas/Fort Worth, TX    1434.0   \n",
      "533174    Garden City, KS            11298  Dallas/Fort Worth, TX    1452.0   \n",
      "\n",
      "        DEP_DELAY_NEW  ARR_TIME  ARR_DELAY_NEW  CANCELLED  DISTANCE  \\\n",
      "0                 9.0    1349.0            4.0          0       296   \n",
      "1                 3.0     729.0            0.0          0       296   \n",
      "2                 4.0    2041.0            6.0          0       296   \n",
      "3                21.0    1316.0           26.0          0      1294   \n",
      "4                 7.0    1745.0            5.0          0       296   \n",
      "...               ...       ...            ...        ...       ...   \n",
      "533170            NaN       NaN            NaN          1       404   \n",
      "533171           11.0    1556.0            7.0          0       404   \n",
      "533172           33.0    1620.0           31.0          0       404   \n",
      "533173            9.0    1559.0           10.0          0       404   \n",
      "533174           27.0    1614.0           25.0          0       404   \n",
      "\n",
      "        DISTANCE_GROUP  \n",
      "0                    2  \n",
      "1                    2  \n",
      "2                    2  \n",
      "3                    6  \n",
      "4                    2  \n",
      "...                ...  \n",
      "533170               2  \n",
      "533171               2  \n",
      "533172               2  \n",
      "533173               2  \n",
      "533174               2  \n",
      "\n",
      "[533175 rows x 17 columns]\n"
     ]
    }
   ],
   "source": [
    "df_temp_02=pd.merge(airport_df,ontime_02_df,on='ORIGIN_AIRPORT_ID',how='outer')\n",
    "print(df_temp_02)"
   ]
  },
  {
   "cell_type": "code",
   "execution_count": 11,
   "id": "b04b5f10",
   "metadata": {},
   "outputs": [
    {
     "name": "stdout",
     "output_type": "stream",
     "text": [
      "        ORIGIN_AIRPORT_ID DISPLAY_AIRPORT_NAME ORIGIN_CITY_NAME_x  \\\n",
      "0                   12992          Adams Field    Little Rock, AR   \n",
      "1                   12992          Adams Field    Little Rock, AR   \n",
      "2                   12992          Adams Field    Little Rock, AR   \n",
      "3                   12992          Adams Field    Little Rock, AR   \n",
      "4                   12992          Adams Field    Little Rock, AR   \n",
      "...                   ...                  ...                ...   \n",
      "632069              11415                  NaN                NaN   \n",
      "632070              11415                  NaN                NaN   \n",
      "632071              11415                  NaN                NaN   \n",
      "632072              11415                  NaN                NaN   \n",
      "632073              11415                  NaN                NaN   \n",
      "\n",
      "                                    NAME  MONTH  DAY_OF_MONTH  DAY_OF_WEEK  \\\n",
      "0       NORTH LITTLE ROCK AIRPORT, AR US      3             9            6   \n",
      "1       NORTH LITTLE ROCK AIRPORT, AR US      3             9            6   \n",
      "2       NORTH LITTLE ROCK AIRPORT, AR US      3             9            6   \n",
      "3       NORTH LITTLE ROCK AIRPORT, AR US      3             9            6   \n",
      "4       NORTH LITTLE ROCK AIRPORT, AR US      3             9            6   \n",
      "...                                  ...    ...           ...          ...   \n",
      "632069                               NaN      3            27            3   \n",
      "632070                               NaN      3            28            4   \n",
      "632071                               NaN      3            29            5   \n",
      "632072                               NaN      3            30            6   \n",
      "632073                               NaN      3            31            7   \n",
      "\n",
      "       ORIGIN_CITY_NAME_y  DEST_AIRPORT_ID         DEST_CITY_NAME  DEP_TIME  \\\n",
      "0         Little Rock, AR            11259             Dallas, TX       NaN   \n",
      "1         Little Rock, AR            11259             Dallas, TX     714.0   \n",
      "2         Little Rock, AR            12889          Las Vegas, NV    1145.0   \n",
      "3         Little Rock, AR            14107            Phoenix, AZ     624.0   \n",
      "4         Little Rock, AR            15016          St. Louis, MO     629.0   \n",
      "...                   ...              ...                    ...       ...   \n",
      "632069        Del Rio, TX            11298  Dallas/Fort Worth, TX    1549.0   \n",
      "632070        Del Rio, TX            11298  Dallas/Fort Worth, TX    1552.0   \n",
      "632071        Del Rio, TX            11298  Dallas/Fort Worth, TX    1549.0   \n",
      "632072        Del Rio, TX            11298  Dallas/Fort Worth, TX    1553.0   \n",
      "632073        Del Rio, TX            11298  Dallas/Fort Worth, TX    1552.0   \n",
      "\n",
      "        DEP_DELAY_NEW  ARR_TIME  ARR_DELAY_NEW  CANCELLED  DISTANCE  \\\n",
      "0                 NaN       NaN            NaN          1       296   \n",
      "1                 9.0     943.0           88.0          0       296   \n",
      "2                85.0    1323.0           98.0          0      1294   \n",
      "3                34.0     850.0           50.0          0      1136   \n",
      "4                 9.0     744.0           14.0          0       296   \n",
      "...               ...       ...            ...        ...       ...   \n",
      "632069            0.0    1711.0            0.0          0       335   \n",
      "632070            0.0    1704.0            0.0          0       335   \n",
      "632071            0.0    1707.0            0.0          0       335   \n",
      "632072            0.0    1700.0            0.0          0       335   \n",
      "632073            0.0    1717.0            0.0          0       335   \n",
      "\n",
      "        DISTANCE_GROUP  \n",
      "0                    2  \n",
      "1                    2  \n",
      "2                    6  \n",
      "3                    5  \n",
      "4                    2  \n",
      "...                ...  \n",
      "632069               2  \n",
      "632070               2  \n",
      "632071               2  \n",
      "632072               2  \n",
      "632073               2  \n",
      "\n",
      "[632074 rows x 17 columns]\n"
     ]
    }
   ],
   "source": [
    "df_temp_03=pd.merge(airport_df,ontime_03_df,on='ORIGIN_AIRPORT_ID',how='outer')\n",
    "print(df_temp_03)"
   ]
  },
  {
   "cell_type": "code",
   "execution_count": 16,
   "id": "1e6dc65a",
   "metadata": {},
   "outputs": [
    {
     "ename": "MemoryError",
     "evalue": "Unable to allocate 43.1 GiB for an array with shape (5785534058,) and data type int64",
     "output_type": "error",
     "traceback": [
      "\u001b[1;31m---------------------------------------------------------------------------\u001b[0m",
      "\u001b[1;31mMemoryError\u001b[0m                               Traceback (most recent call last)",
      "\u001b[1;32m~\\AppData\\Local\\Temp\\ipykernel_16076\\2041772860.py\u001b[0m in \u001b[0;36m<module>\u001b[1;34m\u001b[0m\n\u001b[1;32m----> 1\u001b[1;33m \u001b[0mtemp_02\u001b[0m\u001b[1;33m=\u001b[0m\u001b[0mpd\u001b[0m\u001b[1;33m.\u001b[0m\u001b[0mmerge\u001b[0m\u001b[1;33m(\u001b[0m\u001b[0montime_02_df\u001b[0m\u001b[1;33m,\u001b[0m\u001b[0mdf_temp_01\u001b[0m\u001b[1;33m,\u001b[0m\u001b[0mon\u001b[0m\u001b[1;33m=\u001b[0m\u001b[1;34m'ORIGIN_AIRPORT_ID'\u001b[0m\u001b[1;33m,\u001b[0m\u001b[0mhow\u001b[0m\u001b[1;33m=\u001b[0m\u001b[1;34m'outer'\u001b[0m\u001b[1;33m)\u001b[0m\u001b[1;33m\u001b[0m\u001b[1;33m\u001b[0m\u001b[0m\n\u001b[0m\u001b[0;32m      2\u001b[0m \u001b[0mprint\u001b[0m\u001b[1;33m(\u001b[0m\u001b[0mtemp_02\u001b[0m\u001b[1;33m)\u001b[0m\u001b[1;33m\u001b[0m\u001b[1;33m\u001b[0m\u001b[0m\n",
      "\u001b[1;32m~\\anaconda3\\envs\\PythonData\\lib\\site-packages\\pandas\\core\\reshape\\merge.py\u001b[0m in \u001b[0;36mmerge\u001b[1;34m(left, right, how, on, left_on, right_on, left_index, right_index, sort, suffixes, copy, indicator, validate)\u001b[0m\n\u001b[0;32m    119\u001b[0m         \u001b[0mvalidate\u001b[0m\u001b[1;33m=\u001b[0m\u001b[0mvalidate\u001b[0m\u001b[1;33m,\u001b[0m\u001b[1;33m\u001b[0m\u001b[1;33m\u001b[0m\u001b[0m\n\u001b[0;32m    120\u001b[0m     )\n\u001b[1;32m--> 121\u001b[1;33m     \u001b[1;32mreturn\u001b[0m \u001b[0mop\u001b[0m\u001b[1;33m.\u001b[0m\u001b[0mget_result\u001b[0m\u001b[1;33m(\u001b[0m\u001b[1;33m)\u001b[0m\u001b[1;33m\u001b[0m\u001b[1;33m\u001b[0m\u001b[0m\n\u001b[0m\u001b[0;32m    122\u001b[0m \u001b[1;33m\u001b[0m\u001b[0m\n\u001b[0;32m    123\u001b[0m \u001b[1;33m\u001b[0m\u001b[0m\n",
      "\u001b[1;32m~\\anaconda3\\envs\\PythonData\\lib\\site-packages\\pandas\\core\\reshape\\merge.py\u001b[0m in \u001b[0;36mget_result\u001b[1;34m(self)\u001b[0m\n\u001b[0;32m    713\u001b[0m             \u001b[0mself\u001b[0m\u001b[1;33m.\u001b[0m\u001b[0mleft\u001b[0m\u001b[1;33m,\u001b[0m \u001b[0mself\u001b[0m\u001b[1;33m.\u001b[0m\u001b[0mright\u001b[0m \u001b[1;33m=\u001b[0m \u001b[0mself\u001b[0m\u001b[1;33m.\u001b[0m\u001b[0m_indicator_pre_merge\u001b[0m\u001b[1;33m(\u001b[0m\u001b[0mself\u001b[0m\u001b[1;33m.\u001b[0m\u001b[0mleft\u001b[0m\u001b[1;33m,\u001b[0m \u001b[0mself\u001b[0m\u001b[1;33m.\u001b[0m\u001b[0mright\u001b[0m\u001b[1;33m)\u001b[0m\u001b[1;33m\u001b[0m\u001b[1;33m\u001b[0m\u001b[0m\n\u001b[0;32m    714\u001b[0m \u001b[1;33m\u001b[0m\u001b[0m\n\u001b[1;32m--> 715\u001b[1;33m         \u001b[0mjoin_index\u001b[0m\u001b[1;33m,\u001b[0m \u001b[0mleft_indexer\u001b[0m\u001b[1;33m,\u001b[0m \u001b[0mright_indexer\u001b[0m \u001b[1;33m=\u001b[0m \u001b[0mself\u001b[0m\u001b[1;33m.\u001b[0m\u001b[0m_get_join_info\u001b[0m\u001b[1;33m(\u001b[0m\u001b[1;33m)\u001b[0m\u001b[1;33m\u001b[0m\u001b[1;33m\u001b[0m\u001b[0m\n\u001b[0m\u001b[0;32m    716\u001b[0m \u001b[1;33m\u001b[0m\u001b[0m\n\u001b[0;32m    717\u001b[0m         llabels, rlabels = _items_overlap_with_suffix(\n",
      "\u001b[1;32m~\\anaconda3\\envs\\PythonData\\lib\\site-packages\\pandas\\core\\reshape\\merge.py\u001b[0m in \u001b[0;36m_get_join_info\u001b[1;34m(self)\u001b[0m\n\u001b[0;32m    964\u001b[0m             )\n\u001b[0;32m    965\u001b[0m         \u001b[1;32melse\u001b[0m\u001b[1;33m:\u001b[0m\u001b[1;33m\u001b[0m\u001b[1;33m\u001b[0m\u001b[0m\n\u001b[1;32m--> 966\u001b[1;33m             \u001b[1;33m(\u001b[0m\u001b[0mleft_indexer\u001b[0m\u001b[1;33m,\u001b[0m \u001b[0mright_indexer\u001b[0m\u001b[1;33m)\u001b[0m \u001b[1;33m=\u001b[0m \u001b[0mself\u001b[0m\u001b[1;33m.\u001b[0m\u001b[0m_get_join_indexers\u001b[0m\u001b[1;33m(\u001b[0m\u001b[1;33m)\u001b[0m\u001b[1;33m\u001b[0m\u001b[1;33m\u001b[0m\u001b[0m\n\u001b[0m\u001b[0;32m    967\u001b[0m \u001b[1;33m\u001b[0m\u001b[0m\n\u001b[0;32m    968\u001b[0m             \u001b[1;32mif\u001b[0m \u001b[0mself\u001b[0m\u001b[1;33m.\u001b[0m\u001b[0mright_index\u001b[0m\u001b[1;33m:\u001b[0m\u001b[1;33m\u001b[0m\u001b[1;33m\u001b[0m\u001b[0m\n",
      "\u001b[1;32m~\\anaconda3\\envs\\PythonData\\lib\\site-packages\\pandas\\core\\reshape\\merge.py\u001b[0m in \u001b[0;36m_get_join_indexers\u001b[1;34m(self)\u001b[0m\n\u001b[0;32m    939\u001b[0m         \u001b[1;31m# Both returned ndarrays are np.intp\u001b[0m\u001b[1;33m\u001b[0m\u001b[1;33m\u001b[0m\u001b[1;33m\u001b[0m\u001b[0m\n\u001b[0;32m    940\u001b[0m         return get_join_indexers(\n\u001b[1;32m--> 941\u001b[1;33m             \u001b[0mself\u001b[0m\u001b[1;33m.\u001b[0m\u001b[0mleft_join_keys\u001b[0m\u001b[1;33m,\u001b[0m \u001b[0mself\u001b[0m\u001b[1;33m.\u001b[0m\u001b[0mright_join_keys\u001b[0m\u001b[1;33m,\u001b[0m \u001b[0msort\u001b[0m\u001b[1;33m=\u001b[0m\u001b[0mself\u001b[0m\u001b[1;33m.\u001b[0m\u001b[0msort\u001b[0m\u001b[1;33m,\u001b[0m \u001b[0mhow\u001b[0m\u001b[1;33m=\u001b[0m\u001b[0mself\u001b[0m\u001b[1;33m.\u001b[0m\u001b[0mhow\u001b[0m\u001b[1;33m\u001b[0m\u001b[1;33m\u001b[0m\u001b[0m\n\u001b[0m\u001b[0;32m    942\u001b[0m         )\n\u001b[0;32m    943\u001b[0m \u001b[1;33m\u001b[0m\u001b[0m\n",
      "\u001b[1;32m~\\anaconda3\\envs\\PythonData\\lib\\site-packages\\pandas\\core\\reshape\\merge.py\u001b[0m in \u001b[0;36mget_join_indexers\u001b[1;34m(left_keys, right_keys, sort, how, **kwargs)\u001b[0m\n\u001b[0;32m   1504\u001b[0m \u001b[1;33m\u001b[0m\u001b[0m\n\u001b[0;32m   1505\u001b[0m     \u001b[1;31m# error: Cannot call function of unknown type\u001b[0m\u001b[1;33m\u001b[0m\u001b[1;33m\u001b[0m\u001b[1;33m\u001b[0m\u001b[0m\n\u001b[1;32m-> 1506\u001b[1;33m     \u001b[1;32mreturn\u001b[0m \u001b[0mjoin_func\u001b[0m\u001b[1;33m(\u001b[0m\u001b[0mlkey\u001b[0m\u001b[1;33m,\u001b[0m \u001b[0mrkey\u001b[0m\u001b[1;33m,\u001b[0m \u001b[0mcount\u001b[0m\u001b[1;33m,\u001b[0m \u001b[1;33m**\u001b[0m\u001b[0mkwargs\u001b[0m\u001b[1;33m)\u001b[0m  \u001b[1;31m# type: ignore[operator]\u001b[0m\u001b[1;33m\u001b[0m\u001b[1;33m\u001b[0m\u001b[0m\n\u001b[0m\u001b[0;32m   1507\u001b[0m \u001b[1;33m\u001b[0m\u001b[0m\n\u001b[0;32m   1508\u001b[0m \u001b[1;33m\u001b[0m\u001b[0m\n",
      "\u001b[1;32m~\\anaconda3\\envs\\PythonData\\lib\\site-packages\\pandas\\_libs\\join.pyx\u001b[0m in \u001b[0;36mpandas._libs.join.full_outer_join\u001b[1;34m()\u001b[0m\n",
      "\u001b[1;31mMemoryError\u001b[0m: Unable to allocate 43.1 GiB for an array with shape (5785534058,) and data type int64"
     ]
    }
   ],
   "source": [
    "temp_02=pd.merge(ontime_02_df,df_temp_01,on='ORIGIN_AIRPORT_ID',how='outer')\n",
    "print(temp_02)"
   ]
  },
  {
   "cell_type": "code",
   "execution_count": 14,
   "id": "2d4fcf41",
   "metadata": {},
   "outputs": [
    {
     "name": "stdout",
     "output_type": "stream",
     "text": [
      "       ORIGIN_AIRPORT_ID DISPLAY_AIRPORT_NAME ORIGIN_CITY_NAME  \\\n",
      "0                12992.0          Adams Field  Little Rock, AR   \n",
      "1                12992.0          Adams Field  Little Rock, AR   \n",
      "2                12992.0          Adams Field  Little Rock, AR   \n",
      "3                12992.0          Adams Field  Little Rock, AR   \n",
      "4                12992.0          Adams Field  Little Rock, AR   \n",
      "...                  ...                  ...              ...   \n",
      "42684                NaN                  NaN              NaN   \n",
      "42685                NaN                  NaN              NaN   \n",
      "42686                NaN                  NaN              NaN   \n",
      "42687                NaN                  NaN              NaN   \n",
      "42688                NaN                  NaN              NaN   \n",
      "\n",
      "                                     NAME        DATE   AWND  PRCP  SNOW  \n",
      "0        NORTH LITTLE ROCK AIRPORT, AR US  2019-01-01   4.70  0.00   0.0  \n",
      "1        NORTH LITTLE ROCK AIRPORT, AR US  2019-01-02   2.01  0.39   0.0  \n",
      "2        NORTH LITTLE ROCK AIRPORT, AR US  2019-01-03   6.26  0.44   0.0  \n",
      "3        NORTH LITTLE ROCK AIRPORT, AR US  2019-01-04   2.01  0.13   0.0  \n",
      "4        NORTH LITTLE ROCK AIRPORT, AR US  2019-01-05   1.79  0.00   0.0  \n",
      "...                                   ...         ...    ...   ...   ...  \n",
      "42684  RAPID CITY REGIONAL AIRPORT, SD US  2019-12-27   5.14  0.00   NaN  \n",
      "42685  RAPID CITY REGIONAL AIRPORT, SD US  2019-12-28  22.82  0.14   NaN  \n",
      "42686  RAPID CITY REGIONAL AIRPORT, SD US  2019-12-29  33.33  0.03   NaN  \n",
      "42687  RAPID CITY REGIONAL AIRPORT, SD US  2019-12-30  21.25  0.00   NaN  \n",
      "42688  RAPID CITY REGIONAL AIRPORT, SD US  2019-12-31   2.46  0.00   NaN  \n",
      "\n",
      "[42689 rows x 8 columns]\n"
     ]
    }
   ],
   "source": [
    "df_temp_04=pd.merge(airport_df,airport_weather,on='NAME',how='outer')\n",
    "print(df_temp_04)"
   ]
  },
  {
   "cell_type": "code",
   "execution_count": 15,
   "id": "3f74a4b6",
   "metadata": {},
   "outputs": [
    {
     "ename": "MemoryError",
     "evalue": "Unable to allocate 43.1 GiB for an array with shape (5785534058,) and data type int64",
     "output_type": "error",
     "traceback": [
      "\u001b[1;31m---------------------------------------------------------------------------\u001b[0m",
      "\u001b[1;31mMemoryError\u001b[0m                               Traceback (most recent call last)",
      "\u001b[1;32m~\\AppData\\Local\\Temp\\ipykernel_16076\\4259585789.py\u001b[0m in \u001b[0;36m<module>\u001b[1;34m\u001b[0m\n\u001b[1;32m----> 1\u001b[1;33m \u001b[0mtemporary_01_df\u001b[0m\u001b[1;33m=\u001b[0m\u001b[0mpd\u001b[0m\u001b[1;33m.\u001b[0m\u001b[0mmerge\u001b[0m\u001b[1;33m(\u001b[0m\u001b[0mdf_temp_01\u001b[0m\u001b[1;33m,\u001b[0m\u001b[0mdf_temp_02\u001b[0m\u001b[1;33m,\u001b[0m\u001b[0mon\u001b[0m\u001b[1;33m=\u001b[0m\u001b[1;34m'ORIGIN_AIRPORT_ID'\u001b[0m\u001b[1;33m,\u001b[0m\u001b[0mhow\u001b[0m\u001b[1;33m=\u001b[0m\u001b[1;34m'outer'\u001b[0m\u001b[1;33m)\u001b[0m\u001b[1;33m\u001b[0m\u001b[1;33m\u001b[0m\u001b[0m\n\u001b[0m\u001b[0;32m      2\u001b[0m \u001b[0mprint\u001b[0m\u001b[1;33m(\u001b[0m\u001b[0mtemporary_01_df\u001b[0m\u001b[1;33m)\u001b[0m\u001b[1;33m\u001b[0m\u001b[1;33m\u001b[0m\u001b[0m\n",
      "\u001b[1;32m~\\anaconda3\\envs\\PythonData\\lib\\site-packages\\pandas\\core\\reshape\\merge.py\u001b[0m in \u001b[0;36mmerge\u001b[1;34m(left, right, how, on, left_on, right_on, left_index, right_index, sort, suffixes, copy, indicator, validate)\u001b[0m\n\u001b[0;32m    119\u001b[0m         \u001b[0mvalidate\u001b[0m\u001b[1;33m=\u001b[0m\u001b[0mvalidate\u001b[0m\u001b[1;33m,\u001b[0m\u001b[1;33m\u001b[0m\u001b[1;33m\u001b[0m\u001b[0m\n\u001b[0;32m    120\u001b[0m     )\n\u001b[1;32m--> 121\u001b[1;33m     \u001b[1;32mreturn\u001b[0m \u001b[0mop\u001b[0m\u001b[1;33m.\u001b[0m\u001b[0mget_result\u001b[0m\u001b[1;33m(\u001b[0m\u001b[1;33m)\u001b[0m\u001b[1;33m\u001b[0m\u001b[1;33m\u001b[0m\u001b[0m\n\u001b[0m\u001b[0;32m    122\u001b[0m \u001b[1;33m\u001b[0m\u001b[0m\n\u001b[0;32m    123\u001b[0m \u001b[1;33m\u001b[0m\u001b[0m\n",
      "\u001b[1;32m~\\anaconda3\\envs\\PythonData\\lib\\site-packages\\pandas\\core\\reshape\\merge.py\u001b[0m in \u001b[0;36mget_result\u001b[1;34m(self)\u001b[0m\n\u001b[0;32m    713\u001b[0m             \u001b[0mself\u001b[0m\u001b[1;33m.\u001b[0m\u001b[0mleft\u001b[0m\u001b[1;33m,\u001b[0m \u001b[0mself\u001b[0m\u001b[1;33m.\u001b[0m\u001b[0mright\u001b[0m \u001b[1;33m=\u001b[0m \u001b[0mself\u001b[0m\u001b[1;33m.\u001b[0m\u001b[0m_indicator_pre_merge\u001b[0m\u001b[1;33m(\u001b[0m\u001b[0mself\u001b[0m\u001b[1;33m.\u001b[0m\u001b[0mleft\u001b[0m\u001b[1;33m,\u001b[0m \u001b[0mself\u001b[0m\u001b[1;33m.\u001b[0m\u001b[0mright\u001b[0m\u001b[1;33m)\u001b[0m\u001b[1;33m\u001b[0m\u001b[1;33m\u001b[0m\u001b[0m\n\u001b[0;32m    714\u001b[0m \u001b[1;33m\u001b[0m\u001b[0m\n\u001b[1;32m--> 715\u001b[1;33m         \u001b[0mjoin_index\u001b[0m\u001b[1;33m,\u001b[0m \u001b[0mleft_indexer\u001b[0m\u001b[1;33m,\u001b[0m \u001b[0mright_indexer\u001b[0m \u001b[1;33m=\u001b[0m \u001b[0mself\u001b[0m\u001b[1;33m.\u001b[0m\u001b[0m_get_join_info\u001b[0m\u001b[1;33m(\u001b[0m\u001b[1;33m)\u001b[0m\u001b[1;33m\u001b[0m\u001b[1;33m\u001b[0m\u001b[0m\n\u001b[0m\u001b[0;32m    716\u001b[0m \u001b[1;33m\u001b[0m\u001b[0m\n\u001b[0;32m    717\u001b[0m         llabels, rlabels = _items_overlap_with_suffix(\n",
      "\u001b[1;32m~\\anaconda3\\envs\\PythonData\\lib\\site-packages\\pandas\\core\\reshape\\merge.py\u001b[0m in \u001b[0;36m_get_join_info\u001b[1;34m(self)\u001b[0m\n\u001b[0;32m    964\u001b[0m             )\n\u001b[0;32m    965\u001b[0m         \u001b[1;32melse\u001b[0m\u001b[1;33m:\u001b[0m\u001b[1;33m\u001b[0m\u001b[1;33m\u001b[0m\u001b[0m\n\u001b[1;32m--> 966\u001b[1;33m             \u001b[1;33m(\u001b[0m\u001b[0mleft_indexer\u001b[0m\u001b[1;33m,\u001b[0m \u001b[0mright_indexer\u001b[0m\u001b[1;33m)\u001b[0m \u001b[1;33m=\u001b[0m \u001b[0mself\u001b[0m\u001b[1;33m.\u001b[0m\u001b[0m_get_join_indexers\u001b[0m\u001b[1;33m(\u001b[0m\u001b[1;33m)\u001b[0m\u001b[1;33m\u001b[0m\u001b[1;33m\u001b[0m\u001b[0m\n\u001b[0m\u001b[0;32m    967\u001b[0m \u001b[1;33m\u001b[0m\u001b[0m\n\u001b[0;32m    968\u001b[0m             \u001b[1;32mif\u001b[0m \u001b[0mself\u001b[0m\u001b[1;33m.\u001b[0m\u001b[0mright_index\u001b[0m\u001b[1;33m:\u001b[0m\u001b[1;33m\u001b[0m\u001b[1;33m\u001b[0m\u001b[0m\n",
      "\u001b[1;32m~\\anaconda3\\envs\\PythonData\\lib\\site-packages\\pandas\\core\\reshape\\merge.py\u001b[0m in \u001b[0;36m_get_join_indexers\u001b[1;34m(self)\u001b[0m\n\u001b[0;32m    939\u001b[0m         \u001b[1;31m# Both returned ndarrays are np.intp\u001b[0m\u001b[1;33m\u001b[0m\u001b[1;33m\u001b[0m\u001b[1;33m\u001b[0m\u001b[0m\n\u001b[0;32m    940\u001b[0m         return get_join_indexers(\n\u001b[1;32m--> 941\u001b[1;33m             \u001b[0mself\u001b[0m\u001b[1;33m.\u001b[0m\u001b[0mleft_join_keys\u001b[0m\u001b[1;33m,\u001b[0m \u001b[0mself\u001b[0m\u001b[1;33m.\u001b[0m\u001b[0mright_join_keys\u001b[0m\u001b[1;33m,\u001b[0m \u001b[0msort\u001b[0m\u001b[1;33m=\u001b[0m\u001b[0mself\u001b[0m\u001b[1;33m.\u001b[0m\u001b[0msort\u001b[0m\u001b[1;33m,\u001b[0m \u001b[0mhow\u001b[0m\u001b[1;33m=\u001b[0m\u001b[0mself\u001b[0m\u001b[1;33m.\u001b[0m\u001b[0mhow\u001b[0m\u001b[1;33m\u001b[0m\u001b[1;33m\u001b[0m\u001b[0m\n\u001b[0m\u001b[0;32m    942\u001b[0m         )\n\u001b[0;32m    943\u001b[0m \u001b[1;33m\u001b[0m\u001b[0m\n",
      "\u001b[1;32m~\\anaconda3\\envs\\PythonData\\lib\\site-packages\\pandas\\core\\reshape\\merge.py\u001b[0m in \u001b[0;36mget_join_indexers\u001b[1;34m(left_keys, right_keys, sort, how, **kwargs)\u001b[0m\n\u001b[0;32m   1504\u001b[0m \u001b[1;33m\u001b[0m\u001b[0m\n\u001b[0;32m   1505\u001b[0m     \u001b[1;31m# error: Cannot call function of unknown type\u001b[0m\u001b[1;33m\u001b[0m\u001b[1;33m\u001b[0m\u001b[1;33m\u001b[0m\u001b[0m\n\u001b[1;32m-> 1506\u001b[1;33m     \u001b[1;32mreturn\u001b[0m \u001b[0mjoin_func\u001b[0m\u001b[1;33m(\u001b[0m\u001b[0mlkey\u001b[0m\u001b[1;33m,\u001b[0m \u001b[0mrkey\u001b[0m\u001b[1;33m,\u001b[0m \u001b[0mcount\u001b[0m\u001b[1;33m,\u001b[0m \u001b[1;33m**\u001b[0m\u001b[0mkwargs\u001b[0m\u001b[1;33m)\u001b[0m  \u001b[1;31m# type: ignore[operator]\u001b[0m\u001b[1;33m\u001b[0m\u001b[1;33m\u001b[0m\u001b[0m\n\u001b[0m\u001b[0;32m   1507\u001b[0m \u001b[1;33m\u001b[0m\u001b[0m\n\u001b[0;32m   1508\u001b[0m \u001b[1;33m\u001b[0m\u001b[0m\n",
      "\u001b[1;32m~\\anaconda3\\envs\\PythonData\\lib\\site-packages\\pandas\\_libs\\join.pyx\u001b[0m in \u001b[0;36mpandas._libs.join.full_outer_join\u001b[1;34m()\u001b[0m\n",
      "\u001b[1;31mMemoryError\u001b[0m: Unable to allocate 43.1 GiB for an array with shape (5785534058,) and data type int64"
     ]
    }
   ],
   "source": [
    "temporary_01_df=pd.merge(df_temp_01,df_temp_02,on='ORIGIN_AIRPORT_ID',how='outer')\n",
    "print(temporary_01_df)"
   ]
  },
  {
   "cell_type": "code",
   "execution_count": 18,
   "id": "5ff436ac",
   "metadata": {},
   "outputs": [
    {
     "ename": "AttributeError",
     "evalue": "module 'pandas' has no attribute 'join'",
     "output_type": "error",
     "traceback": [
      "\u001b[1;31m---------------------------------------------------------------------------\u001b[0m",
      "\u001b[1;31mAttributeError\u001b[0m                            Traceback (most recent call last)",
      "\u001b[1;32m~\\AppData\\Local\\Temp\\ipykernel_16076\\1167244354.py\u001b[0m in \u001b[0;36m<module>\u001b[1;34m\u001b[0m\n\u001b[1;32m----> 1\u001b[1;33m \u001b[0mtest_df\u001b[0m\u001b[1;33m=\u001b[0m\u001b[0mpd\u001b[0m\u001b[1;33m.\u001b[0m\u001b[0mjoin\u001b[0m\u001b[1;33m(\u001b[0m\u001b[0mairport_df\u001b[0m\u001b[1;33m,\u001b[0m\u001b[0montime_01_df\u001b[0m\u001b[1;33m,\u001b[0m\u001b[0mon\u001b[0m\u001b[1;33m=\u001b[0m\u001b[1;34m'ORIGIN_AIRPORT_ID'\u001b[0m\u001b[1;33m,\u001b[0m\u001b[0mhow\u001b[0m\u001b[1;33m=\u001b[0m\u001b[1;34m'outer'\u001b[0m\u001b[1;33m)\u001b[0m\u001b[1;33m.\u001b[0m\u001b[0mjoin\u001b[0m\u001b[1;33m(\u001b[0m\u001b[0mairport_df\u001b[0m\u001b[1;33m,\u001b[0m\u001b[0montime_02_df\u001b[0m\u001b[1;33m,\u001b[0m\u001b[0mon\u001b[0m\u001b[1;33m=\u001b[0m\u001b[1;34m'ORIGIN_AIRPORT_ID'\u001b[0m\u001b[1;33m,\u001b[0m\u001b[0mhow\u001b[0m\u001b[1;33m=\u001b[0m\u001b[1;34m'outer'\u001b[0m\u001b[1;33m)\u001b[0m\u001b[1;33m\u001b[0m\u001b[1;33m\u001b[0m\u001b[0m\n\u001b[0m\u001b[0;32m      2\u001b[0m \u001b[0mprint\u001b[0m\u001b[1;33m(\u001b[0m\u001b[0mtest_df\u001b[0m\u001b[1;33m)\u001b[0m\u001b[1;33m\u001b[0m\u001b[1;33m\u001b[0m\u001b[0m\n",
      "\u001b[1;32m~\\anaconda3\\envs\\PythonData\\lib\\site-packages\\pandas\\__init__.py\u001b[0m in \u001b[0;36m__getattr__\u001b[1;34m(name)\u001b[0m\n\u001b[0;32m    242\u001b[0m         \u001b[1;32mreturn\u001b[0m \u001b[0m_SparseArray\u001b[0m\u001b[1;33m\u001b[0m\u001b[1;33m\u001b[0m\u001b[0m\n\u001b[0;32m    243\u001b[0m \u001b[1;33m\u001b[0m\u001b[0m\n\u001b[1;32m--> 244\u001b[1;33m     \u001b[1;32mraise\u001b[0m \u001b[0mAttributeError\u001b[0m\u001b[1;33m(\u001b[0m\u001b[1;34mf\"module 'pandas' has no attribute '{name}'\"\u001b[0m\u001b[1;33m)\u001b[0m\u001b[1;33m\u001b[0m\u001b[1;33m\u001b[0m\u001b[0m\n\u001b[0m\u001b[0;32m    245\u001b[0m \u001b[1;33m\u001b[0m\u001b[0m\n\u001b[0;32m    246\u001b[0m \u001b[1;33m\u001b[0m\u001b[0m\n",
      "\u001b[1;31mAttributeError\u001b[0m: module 'pandas' has no attribute 'join'"
     ]
    }
   ],
   "source": [
    "test_df=pd.join(airport_df,ontime_01_df,on='ORIGIN_AIRPORT_ID',how='outer').join(airport_df,ontime_02_df,on='ORIGIN_AIRPORT_ID',how='outer')\n",
    "print(test_df)"
   ]
  },
  {
   "cell_type": "code",
   "execution_count": 19,
   "id": "2d18df9a",
   "metadata": {},
   "outputs": [
    {
     "ename": "ValueError",
     "evalue": "Can only compare identically-labeled Series objects",
     "output_type": "error",
     "traceback": [
      "\u001b[1;31m---------------------------------------------------------------------------\u001b[0m",
      "\u001b[1;31mValueError\u001b[0m                                Traceback (most recent call last)",
      "\u001b[1;32m~\\AppData\\Local\\Temp\\ipykernel_16076\\3391969962.py\u001b[0m in \u001b[0;36m<module>\u001b[1;34m\u001b[0m\n\u001b[1;32m----> 1\u001b[1;33m \u001b[0mtest_df\u001b[0m\u001b[1;33m=\u001b[0m\u001b[0mairport_df\u001b[0m\u001b[1;33m.\u001b[0m\u001b[0mjoin\u001b[0m\u001b[1;33m(\u001b[0m\u001b[0montime_01_df\u001b[0m\u001b[1;33m,\u001b[0m\u001b[0mairport_df\u001b[0m\u001b[1;33m.\u001b[0m\u001b[0mORIGIN_AIRPORT_ID\u001b[0m \u001b[1;33m==\u001b[0m  \u001b[0montime_01_df\u001b[0m\u001b[1;33m.\u001b[0m\u001b[0mORIGIN_AIRPORT_ID\u001b[0m\u001b[1;33m,\u001b[0m\u001b[1;34m\"fullouter\"\u001b[0m\u001b[1;33m)\u001b[0m\u001b[1;33m.\u001b[0m\u001b[0mjoin\u001b[0m\u001b[1;33m(\u001b[0m\u001b[0montime_02_df\u001b[0m\u001b[1;33m,\u001b[0m\u001b[0mairport_df\u001b[0m\u001b[1;33m.\u001b[0m\u001b[0mORIGIN_AIRPORT_ID\u001b[0m \u001b[1;33m==\u001b[0m  \u001b[0montime_02_df\u001b[0m\u001b[1;33m.\u001b[0m\u001b[0mORIGIN_AIRPORT_ID\u001b[0m\u001b[1;33m,\u001b[0m\u001b[1;34m\"fullouter\"\u001b[0m\u001b[1;33m)\u001b[0m\u001b[1;33m\u001b[0m\u001b[1;33m\u001b[0m\u001b[0m\n\u001b[0m",
      "\u001b[1;32m~\\anaconda3\\envs\\PythonData\\lib\\site-packages\\pandas\\core\\ops\\common.py\u001b[0m in \u001b[0;36mnew_method\u001b[1;34m(self, other)\u001b[0m\n\u001b[0;32m     67\u001b[0m         \u001b[0mother\u001b[0m \u001b[1;33m=\u001b[0m \u001b[0mitem_from_zerodim\u001b[0m\u001b[1;33m(\u001b[0m\u001b[0mother\u001b[0m\u001b[1;33m)\u001b[0m\u001b[1;33m\u001b[0m\u001b[1;33m\u001b[0m\u001b[0m\n\u001b[0;32m     68\u001b[0m \u001b[1;33m\u001b[0m\u001b[0m\n\u001b[1;32m---> 69\u001b[1;33m         \u001b[1;32mreturn\u001b[0m \u001b[0mmethod\u001b[0m\u001b[1;33m(\u001b[0m\u001b[0mself\u001b[0m\u001b[1;33m,\u001b[0m \u001b[0mother\u001b[0m\u001b[1;33m)\u001b[0m\u001b[1;33m\u001b[0m\u001b[1;33m\u001b[0m\u001b[0m\n\u001b[0m\u001b[0;32m     70\u001b[0m \u001b[1;33m\u001b[0m\u001b[0m\n\u001b[0;32m     71\u001b[0m     \u001b[1;32mreturn\u001b[0m \u001b[0mnew_method\u001b[0m\u001b[1;33m\u001b[0m\u001b[1;33m\u001b[0m\u001b[0m\n",
      "\u001b[1;32m~\\anaconda3\\envs\\PythonData\\lib\\site-packages\\pandas\\core\\arraylike.py\u001b[0m in \u001b[0;36m__eq__\u001b[1;34m(self, other)\u001b[0m\n\u001b[0;32m     30\u001b[0m     \u001b[1;33m@\u001b[0m\u001b[0munpack_zerodim_and_defer\u001b[0m\u001b[1;33m(\u001b[0m\u001b[1;34m\"__eq__\"\u001b[0m\u001b[1;33m)\u001b[0m\u001b[1;33m\u001b[0m\u001b[1;33m\u001b[0m\u001b[0m\n\u001b[0;32m     31\u001b[0m     \u001b[1;32mdef\u001b[0m \u001b[0m__eq__\u001b[0m\u001b[1;33m(\u001b[0m\u001b[0mself\u001b[0m\u001b[1;33m,\u001b[0m \u001b[0mother\u001b[0m\u001b[1;33m)\u001b[0m\u001b[1;33m:\u001b[0m\u001b[1;33m\u001b[0m\u001b[1;33m\u001b[0m\u001b[0m\n\u001b[1;32m---> 32\u001b[1;33m         \u001b[1;32mreturn\u001b[0m \u001b[0mself\u001b[0m\u001b[1;33m.\u001b[0m\u001b[0m_cmp_method\u001b[0m\u001b[1;33m(\u001b[0m\u001b[0mother\u001b[0m\u001b[1;33m,\u001b[0m \u001b[0moperator\u001b[0m\u001b[1;33m.\u001b[0m\u001b[0meq\u001b[0m\u001b[1;33m)\u001b[0m\u001b[1;33m\u001b[0m\u001b[1;33m\u001b[0m\u001b[0m\n\u001b[0m\u001b[0;32m     33\u001b[0m \u001b[1;33m\u001b[0m\u001b[0m\n\u001b[0;32m     34\u001b[0m     \u001b[1;33m@\u001b[0m\u001b[0munpack_zerodim_and_defer\u001b[0m\u001b[1;33m(\u001b[0m\u001b[1;34m\"__ne__\"\u001b[0m\u001b[1;33m)\u001b[0m\u001b[1;33m\u001b[0m\u001b[1;33m\u001b[0m\u001b[0m\n",
      "\u001b[1;32m~\\anaconda3\\envs\\PythonData\\lib\\site-packages\\pandas\\core\\series.py\u001b[0m in \u001b[0;36m_cmp_method\u001b[1;34m(self, other, op)\u001b[0m\n\u001b[0;32m   5494\u001b[0m \u001b[1;33m\u001b[0m\u001b[0m\n\u001b[0;32m   5495\u001b[0m         \u001b[1;32mif\u001b[0m \u001b[0misinstance\u001b[0m\u001b[1;33m(\u001b[0m\u001b[0mother\u001b[0m\u001b[1;33m,\u001b[0m \u001b[0mSeries\u001b[0m\u001b[1;33m)\u001b[0m \u001b[1;32mand\u001b[0m \u001b[1;32mnot\u001b[0m \u001b[0mself\u001b[0m\u001b[1;33m.\u001b[0m\u001b[0m_indexed_same\u001b[0m\u001b[1;33m(\u001b[0m\u001b[0mother\u001b[0m\u001b[1;33m)\u001b[0m\u001b[1;33m:\u001b[0m\u001b[1;33m\u001b[0m\u001b[1;33m\u001b[0m\u001b[0m\n\u001b[1;32m-> 5496\u001b[1;33m             \u001b[1;32mraise\u001b[0m \u001b[0mValueError\u001b[0m\u001b[1;33m(\u001b[0m\u001b[1;34m\"Can only compare identically-labeled Series objects\"\u001b[0m\u001b[1;33m)\u001b[0m\u001b[1;33m\u001b[0m\u001b[1;33m\u001b[0m\u001b[0m\n\u001b[0m\u001b[0;32m   5497\u001b[0m \u001b[1;33m\u001b[0m\u001b[0m\n\u001b[0;32m   5498\u001b[0m         \u001b[0mlvalues\u001b[0m \u001b[1;33m=\u001b[0m \u001b[0mself\u001b[0m\u001b[1;33m.\u001b[0m\u001b[0m_values\u001b[0m\u001b[1;33m\u001b[0m\u001b[1;33m\u001b[0m\u001b[0m\n",
      "\u001b[1;31mValueError\u001b[0m: Can only compare identically-labeled Series objects"
     ]
    }
   ],
   "source": [
    "test_df=airport_df.join(ontime_01_df,airport_df.ORIGIN_AIRPORT_ID ==  ontime_01_df.ORIGIN_AIRPORT_ID,\"fullouter\").join(ontime_02_df,airport_df.ORIGIN_AIRPORT_ID ==  ontime_02_df.ORIGIN_AIRPORT_ID,\"fullouter\")"
   ]
  },
  {
   "cell_type": "code",
   "execution_count": 25,
   "id": "f1124606",
   "metadata": {},
   "outputs": [
    {
     "ename": "ValueError",
     "evalue": "Can only compare identically-labeled Series objects",
     "output_type": "error",
     "traceback": [
      "\u001b[1;31m---------------------------------------------------------------------------\u001b[0m",
      "\u001b[1;31mValueError\u001b[0m                                Traceback (most recent call last)",
      "\u001b[1;32m~\\AppData\\Local\\Temp\\ipykernel_16076\\1490649881.py\u001b[0m in \u001b[0;36m<module>\u001b[1;34m\u001b[0m\n\u001b[1;32m----> 1\u001b[1;33m \u001b[0mairport_df\u001b[0m\u001b[1;33m.\u001b[0m\u001b[0mjoin\u001b[0m\u001b[1;33m(\u001b[0m\u001b[0montime_01_df\u001b[0m\u001b[1;33m,\u001b[0m\u001b[0mairport_df\u001b[0m\u001b[1;33m.\u001b[0m\u001b[0mORIGIN_AIRPORT_ID\u001b[0m \u001b[1;33m==\u001b[0m  \u001b[0montime_01_df\u001b[0m\u001b[1;33m.\u001b[0m\u001b[0mORIGIN_AIRPORT_ID\u001b[0m\u001b[1;33m,\u001b[0m\u001b[1;34m\"fullouter\"\u001b[0m\u001b[1;33m)\u001b[0m\u001b[0;31m \u001b[0m\u001b[0;31m\\\u001b[0m\u001b[1;33m\u001b[0m\u001b[1;33m\u001b[0m\u001b[0m\n\u001b[0m\u001b[0;32m      2\u001b[0m     \u001b[1;33m.\u001b[0m\u001b[0mshow\u001b[0m\u001b[1;33m(\u001b[0m\u001b[0mtruncate\u001b[0m\u001b[1;33m=\u001b[0m\u001b[1;32mFalse\u001b[0m\u001b[1;33m)\u001b[0m\u001b[1;33m\u001b[0m\u001b[1;33m\u001b[0m\u001b[0m\n",
      "\u001b[1;32m~\\anaconda3\\envs\\PythonData\\lib\\site-packages\\pandas\\core\\ops\\common.py\u001b[0m in \u001b[0;36mnew_method\u001b[1;34m(self, other)\u001b[0m\n\u001b[0;32m     67\u001b[0m         \u001b[0mother\u001b[0m \u001b[1;33m=\u001b[0m \u001b[0mitem_from_zerodim\u001b[0m\u001b[1;33m(\u001b[0m\u001b[0mother\u001b[0m\u001b[1;33m)\u001b[0m\u001b[1;33m\u001b[0m\u001b[1;33m\u001b[0m\u001b[0m\n\u001b[0;32m     68\u001b[0m \u001b[1;33m\u001b[0m\u001b[0m\n\u001b[1;32m---> 69\u001b[1;33m         \u001b[1;32mreturn\u001b[0m \u001b[0mmethod\u001b[0m\u001b[1;33m(\u001b[0m\u001b[0mself\u001b[0m\u001b[1;33m,\u001b[0m \u001b[0mother\u001b[0m\u001b[1;33m)\u001b[0m\u001b[1;33m\u001b[0m\u001b[1;33m\u001b[0m\u001b[0m\n\u001b[0m\u001b[0;32m     70\u001b[0m \u001b[1;33m\u001b[0m\u001b[0m\n\u001b[0;32m     71\u001b[0m     \u001b[1;32mreturn\u001b[0m \u001b[0mnew_method\u001b[0m\u001b[1;33m\u001b[0m\u001b[1;33m\u001b[0m\u001b[0m\n",
      "\u001b[1;32m~\\anaconda3\\envs\\PythonData\\lib\\site-packages\\pandas\\core\\arraylike.py\u001b[0m in \u001b[0;36m__eq__\u001b[1;34m(self, other)\u001b[0m\n\u001b[0;32m     30\u001b[0m     \u001b[1;33m@\u001b[0m\u001b[0munpack_zerodim_and_defer\u001b[0m\u001b[1;33m(\u001b[0m\u001b[1;34m\"__eq__\"\u001b[0m\u001b[1;33m)\u001b[0m\u001b[1;33m\u001b[0m\u001b[1;33m\u001b[0m\u001b[0m\n\u001b[0;32m     31\u001b[0m     \u001b[1;32mdef\u001b[0m \u001b[0m__eq__\u001b[0m\u001b[1;33m(\u001b[0m\u001b[0mself\u001b[0m\u001b[1;33m,\u001b[0m \u001b[0mother\u001b[0m\u001b[1;33m)\u001b[0m\u001b[1;33m:\u001b[0m\u001b[1;33m\u001b[0m\u001b[1;33m\u001b[0m\u001b[0m\n\u001b[1;32m---> 32\u001b[1;33m         \u001b[1;32mreturn\u001b[0m \u001b[0mself\u001b[0m\u001b[1;33m.\u001b[0m\u001b[0m_cmp_method\u001b[0m\u001b[1;33m(\u001b[0m\u001b[0mother\u001b[0m\u001b[1;33m,\u001b[0m \u001b[0moperator\u001b[0m\u001b[1;33m.\u001b[0m\u001b[0meq\u001b[0m\u001b[1;33m)\u001b[0m\u001b[1;33m\u001b[0m\u001b[1;33m\u001b[0m\u001b[0m\n\u001b[0m\u001b[0;32m     33\u001b[0m \u001b[1;33m\u001b[0m\u001b[0m\n\u001b[0;32m     34\u001b[0m     \u001b[1;33m@\u001b[0m\u001b[0munpack_zerodim_and_defer\u001b[0m\u001b[1;33m(\u001b[0m\u001b[1;34m\"__ne__\"\u001b[0m\u001b[1;33m)\u001b[0m\u001b[1;33m\u001b[0m\u001b[1;33m\u001b[0m\u001b[0m\n",
      "\u001b[1;32m~\\anaconda3\\envs\\PythonData\\lib\\site-packages\\pandas\\core\\series.py\u001b[0m in \u001b[0;36m_cmp_method\u001b[1;34m(self, other, op)\u001b[0m\n\u001b[0;32m   5494\u001b[0m \u001b[1;33m\u001b[0m\u001b[0m\n\u001b[0;32m   5495\u001b[0m         \u001b[1;32mif\u001b[0m \u001b[0misinstance\u001b[0m\u001b[1;33m(\u001b[0m\u001b[0mother\u001b[0m\u001b[1;33m,\u001b[0m \u001b[0mSeries\u001b[0m\u001b[1;33m)\u001b[0m \u001b[1;32mand\u001b[0m \u001b[1;32mnot\u001b[0m \u001b[0mself\u001b[0m\u001b[1;33m.\u001b[0m\u001b[0m_indexed_same\u001b[0m\u001b[1;33m(\u001b[0m\u001b[0mother\u001b[0m\u001b[1;33m)\u001b[0m\u001b[1;33m:\u001b[0m\u001b[1;33m\u001b[0m\u001b[1;33m\u001b[0m\u001b[0m\n\u001b[1;32m-> 5496\u001b[1;33m             \u001b[1;32mraise\u001b[0m \u001b[0mValueError\u001b[0m\u001b[1;33m(\u001b[0m\u001b[1;34m\"Can only compare identically-labeled Series objects\"\u001b[0m\u001b[1;33m)\u001b[0m\u001b[1;33m\u001b[0m\u001b[1;33m\u001b[0m\u001b[0m\n\u001b[0m\u001b[0;32m   5497\u001b[0m \u001b[1;33m\u001b[0m\u001b[0m\n\u001b[0;32m   5498\u001b[0m         \u001b[0mlvalues\u001b[0m \u001b[1;33m=\u001b[0m \u001b[0mself\u001b[0m\u001b[1;33m.\u001b[0m\u001b[0m_values\u001b[0m\u001b[1;33m\u001b[0m\u001b[1;33m\u001b[0m\u001b[0m\n",
      "\u001b[1;31mValueError\u001b[0m: Can only compare identically-labeled Series objects"
     ]
    }
   ],
   "source": [
    "airport_df.join(ontime_01_df,airport_df.ORIGIN_AIRPORT_ID ==  ontime_01_df.ORIGIN_AIRPORT_ID,\"fullouter\") \\\n",
    "    .show(truncate=False)"
   ]
  },
  {
   "cell_type": "code",
   "execution_count": 26,
   "id": "e3cca5ce",
   "metadata": {},
   "outputs": [
    {
     "ename": "ValueError",
     "evalue": "Can only compare identically-labeled Series objects",
     "output_type": "error",
     "traceback": [
      "\u001b[1;31m---------------------------------------------------------------------------\u001b[0m",
      "\u001b[1;31mValueError\u001b[0m                                Traceback (most recent call last)",
      "\u001b[1;32m~\\AppData\\Local\\Temp\\ipykernel_16076\\3870903058.py\u001b[0m in \u001b[0;36m<module>\u001b[1;34m\u001b[0m\n\u001b[1;32m----> 1\u001b[1;33m \u001b[0mdf_temp_01\u001b[0m\u001b[1;33m.\u001b[0m\u001b[0mjoin\u001b[0m\u001b[1;33m(\u001b[0m\u001b[0mdf_temp_02\u001b[0m\u001b[1;33m,\u001b[0m\u001b[0mdf_temp_01\u001b[0m\u001b[1;33m.\u001b[0m\u001b[0mORIGIN_AIRPORT_ID\u001b[0m \u001b[1;33m==\u001b[0m  \u001b[0mdf_temp_02\u001b[0m\u001b[1;33m.\u001b[0m\u001b[0mORIGIN_AIRPORT_ID\u001b[0m\u001b[1;33m,\u001b[0m\u001b[1;34m\"fullouter\"\u001b[0m\u001b[1;33m)\u001b[0m\u001b[0;31m \u001b[0m\u001b[0;31m\\\u001b[0m\u001b[1;33m\u001b[0m\u001b[1;33m\u001b[0m\u001b[0m\n\u001b[0m\u001b[0;32m      2\u001b[0m     \u001b[1;33m.\u001b[0m\u001b[0mshow\u001b[0m\u001b[1;33m(\u001b[0m\u001b[0mtruncate\u001b[0m\u001b[1;33m=\u001b[0m\u001b[1;32mFalse\u001b[0m\u001b[1;33m)\u001b[0m\u001b[1;33m\u001b[0m\u001b[1;33m\u001b[0m\u001b[0m\n",
      "\u001b[1;32m~\\anaconda3\\envs\\PythonData\\lib\\site-packages\\pandas\\core\\ops\\common.py\u001b[0m in \u001b[0;36mnew_method\u001b[1;34m(self, other)\u001b[0m\n\u001b[0;32m     67\u001b[0m         \u001b[0mother\u001b[0m \u001b[1;33m=\u001b[0m \u001b[0mitem_from_zerodim\u001b[0m\u001b[1;33m(\u001b[0m\u001b[0mother\u001b[0m\u001b[1;33m)\u001b[0m\u001b[1;33m\u001b[0m\u001b[1;33m\u001b[0m\u001b[0m\n\u001b[0;32m     68\u001b[0m \u001b[1;33m\u001b[0m\u001b[0m\n\u001b[1;32m---> 69\u001b[1;33m         \u001b[1;32mreturn\u001b[0m \u001b[0mmethod\u001b[0m\u001b[1;33m(\u001b[0m\u001b[0mself\u001b[0m\u001b[1;33m,\u001b[0m \u001b[0mother\u001b[0m\u001b[1;33m)\u001b[0m\u001b[1;33m\u001b[0m\u001b[1;33m\u001b[0m\u001b[0m\n\u001b[0m\u001b[0;32m     70\u001b[0m \u001b[1;33m\u001b[0m\u001b[0m\n\u001b[0;32m     71\u001b[0m     \u001b[1;32mreturn\u001b[0m \u001b[0mnew_method\u001b[0m\u001b[1;33m\u001b[0m\u001b[1;33m\u001b[0m\u001b[0m\n",
      "\u001b[1;32m~\\anaconda3\\envs\\PythonData\\lib\\site-packages\\pandas\\core\\arraylike.py\u001b[0m in \u001b[0;36m__eq__\u001b[1;34m(self, other)\u001b[0m\n\u001b[0;32m     30\u001b[0m     \u001b[1;33m@\u001b[0m\u001b[0munpack_zerodim_and_defer\u001b[0m\u001b[1;33m(\u001b[0m\u001b[1;34m\"__eq__\"\u001b[0m\u001b[1;33m)\u001b[0m\u001b[1;33m\u001b[0m\u001b[1;33m\u001b[0m\u001b[0m\n\u001b[0;32m     31\u001b[0m     \u001b[1;32mdef\u001b[0m \u001b[0m__eq__\u001b[0m\u001b[1;33m(\u001b[0m\u001b[0mself\u001b[0m\u001b[1;33m,\u001b[0m \u001b[0mother\u001b[0m\u001b[1;33m)\u001b[0m\u001b[1;33m:\u001b[0m\u001b[1;33m\u001b[0m\u001b[1;33m\u001b[0m\u001b[0m\n\u001b[1;32m---> 32\u001b[1;33m         \u001b[1;32mreturn\u001b[0m \u001b[0mself\u001b[0m\u001b[1;33m.\u001b[0m\u001b[0m_cmp_method\u001b[0m\u001b[1;33m(\u001b[0m\u001b[0mother\u001b[0m\u001b[1;33m,\u001b[0m \u001b[0moperator\u001b[0m\u001b[1;33m.\u001b[0m\u001b[0meq\u001b[0m\u001b[1;33m)\u001b[0m\u001b[1;33m\u001b[0m\u001b[1;33m\u001b[0m\u001b[0m\n\u001b[0m\u001b[0;32m     33\u001b[0m \u001b[1;33m\u001b[0m\u001b[0m\n\u001b[0;32m     34\u001b[0m     \u001b[1;33m@\u001b[0m\u001b[0munpack_zerodim_and_defer\u001b[0m\u001b[1;33m(\u001b[0m\u001b[1;34m\"__ne__\"\u001b[0m\u001b[1;33m)\u001b[0m\u001b[1;33m\u001b[0m\u001b[1;33m\u001b[0m\u001b[0m\n",
      "\u001b[1;32m~\\anaconda3\\envs\\PythonData\\lib\\site-packages\\pandas\\core\\series.py\u001b[0m in \u001b[0;36m_cmp_method\u001b[1;34m(self, other, op)\u001b[0m\n\u001b[0;32m   5494\u001b[0m \u001b[1;33m\u001b[0m\u001b[0m\n\u001b[0;32m   5495\u001b[0m         \u001b[1;32mif\u001b[0m \u001b[0misinstance\u001b[0m\u001b[1;33m(\u001b[0m\u001b[0mother\u001b[0m\u001b[1;33m,\u001b[0m \u001b[0mSeries\u001b[0m\u001b[1;33m)\u001b[0m \u001b[1;32mand\u001b[0m \u001b[1;32mnot\u001b[0m \u001b[0mself\u001b[0m\u001b[1;33m.\u001b[0m\u001b[0m_indexed_same\u001b[0m\u001b[1;33m(\u001b[0m\u001b[0mother\u001b[0m\u001b[1;33m)\u001b[0m\u001b[1;33m:\u001b[0m\u001b[1;33m\u001b[0m\u001b[1;33m\u001b[0m\u001b[0m\n\u001b[1;32m-> 5496\u001b[1;33m             \u001b[1;32mraise\u001b[0m \u001b[0mValueError\u001b[0m\u001b[1;33m(\u001b[0m\u001b[1;34m\"Can only compare identically-labeled Series objects\"\u001b[0m\u001b[1;33m)\u001b[0m\u001b[1;33m\u001b[0m\u001b[1;33m\u001b[0m\u001b[0m\n\u001b[0m\u001b[0;32m   5497\u001b[0m \u001b[1;33m\u001b[0m\u001b[0m\n\u001b[0;32m   5498\u001b[0m         \u001b[0mlvalues\u001b[0m \u001b[1;33m=\u001b[0m \u001b[0mself\u001b[0m\u001b[1;33m.\u001b[0m\u001b[0m_values\u001b[0m\u001b[1;33m\u001b[0m\u001b[1;33m\u001b[0m\u001b[0m\n",
      "\u001b[1;31mValueError\u001b[0m: Can only compare identically-labeled Series objects"
     ]
    }
   ],
   "source": [
    "df_temp_01.join(df_temp_02,df_temp_01.ORIGIN_AIRPORT_ID ==  df_temp_02.ORIGIN_AIRPORT_ID,\"fullouter\") \\\n",
    "    .show(truncate=False)"
   ]
  },
  {
   "cell_type": "code",
   "execution_count": 27,
   "id": "9efb2b02",
   "metadata": {},
   "outputs": [],
   "source": [
    "df_temp_02.to_csv('temp_02.csv', index=False)"
   ]
  },
  {
   "cell_type": "code",
   "execution_count": 28,
   "id": "305bc37f",
   "metadata": {},
   "outputs": [],
   "source": [
    "df_temp_03.to_csv('temp_03.csv', index=False)"
   ]
  },
  {
   "cell_type": "code",
   "execution_count": 29,
   "id": "6175fb0c",
   "metadata": {},
   "outputs": [],
   "source": [
    "df_temp_04.to_csv('temp_04.csv', index=False)"
   ]
  },
  {
   "cell_type": "code",
   "execution_count": null,
   "id": "9098b6fc",
   "metadata": {},
   "outputs": [],
   "source": []
  }
 ],
 "metadata": {
  "kernelspec": {
   "display_name": "Python 3 (ipykernel)",
   "language": "python",
   "name": "python3"
  },
  "language_info": {
   "codemirror_mode": {
    "name": "ipython",
    "version": 3
   },
   "file_extension": ".py",
   "mimetype": "text/x-python",
   "name": "python",
   "nbconvert_exporter": "python",
   "pygments_lexer": "ipython3",
   "version": "3.7.13"
  }
 },
 "nbformat": 4,
 "nbformat_minor": 5
}
